{
 "cells": [
  {
   "cell_type": "code",
   "execution_count": 1,
   "metadata": {},
   "outputs": [],
   "source": [
    "import numpy as np\n",
    "import pandas as pd"
   ]
  },
  {
   "cell_type": "code",
   "execution_count": 2,
   "metadata": {},
   "outputs": [],
   "source": [
    "df = pd.read_csv(r'/home/sunbeam/Project/Tour_Recommender_System/Complete_df.csv')"
   ]
  },
  {
   "cell_type": "code",
   "execution_count": 3,
   "metadata": {},
   "outputs": [
    {
     "data": {
      "text/html": [
       "<div>\n",
       "<style scoped>\n",
       "    .dataframe tbody tr th:only-of-type {\n",
       "        vertical-align: middle;\n",
       "    }\n",
       "\n",
       "    .dataframe tbody tr th {\n",
       "        vertical-align: top;\n",
       "    }\n",
       "\n",
       "    .dataframe thead th {\n",
       "        text-align: right;\n",
       "    }\n",
       "</style>\n",
       "<table border=\"1\" class=\"dataframe\">\n",
       "  <thead>\n",
       "    <tr style=\"text-align: right;\">\n",
       "      <th></th>\n",
       "      <th>places</th>\n",
       "      <th>state</th>\n",
       "      <th>type</th>\n",
       "      <th>rating</th>\n",
       "      <th>description</th>\n",
       "      <th>best_time_to_visit</th>\n",
       "      <th>avg_accommodation_cost/day(Rs)</th>\n",
       "    </tr>\n",
       "  </thead>\n",
       "  <tbody>\n",
       "    <tr>\n",
       "      <th>0</th>\n",
       "      <td>Araku Valley</td>\n",
       "      <td>andhra-pradesh</td>\n",
       "      <td>Adventure</td>\n",
       "      <td>4.8</td>\n",
       "      <td>Araku Valley is a comparatively unexplored hil...</td>\n",
       "      <td>September to February</td>\n",
       "      <td>5480.20</td>\n",
       "    </tr>\n",
       "    <tr>\n",
       "      <th>1</th>\n",
       "      <td>Visakhapatnam</td>\n",
       "      <td>andhra-pradesh</td>\n",
       "      <td>Beach</td>\n",
       "      <td>4.4</td>\n",
       "      <td>Visakhapatnam, also commonly known as Vizag, i...</td>\n",
       "      <td>September to March</td>\n",
       "      <td>3630.07</td>\n",
       "    </tr>\n",
       "    <tr>\n",
       "      <th>2</th>\n",
       "      <td>Amaravathi</td>\n",
       "      <td>andhra-pradesh</td>\n",
       "      <td>Religious</td>\n",
       "      <td>4.9</td>\n",
       "      <td>Known as the Capital of Andhra Pradesh, Amarav...</td>\n",
       "      <td>November to March</td>\n",
       "      <td>2246.98</td>\n",
       "    </tr>\n",
       "    <tr>\n",
       "      <th>3</th>\n",
       "      <td>Gandikota</td>\n",
       "      <td>andhra-pradesh</td>\n",
       "      <td>Historical</td>\n",
       "      <td>4.5</td>\n",
       "      <td>Endearingly known as the ‘Grand Canyon of Indi...</td>\n",
       "      <td>November to February</td>\n",
       "      <td>3118.42</td>\n",
       "    </tr>\n",
       "    <tr>\n",
       "      <th>4</th>\n",
       "      <td>Anantapur</td>\n",
       "      <td>andhra-pradesh</td>\n",
       "      <td>Historical</td>\n",
       "      <td>3.5</td>\n",
       "      <td>Anantapuram is the headquarters of Anantapur D...</td>\n",
       "      <td>September to March</td>\n",
       "      <td>3092.95</td>\n",
       "    </tr>\n",
       "  </tbody>\n",
       "</table>\n",
       "</div>"
      ],
      "text/plain": [
       "          places           state        type  rating  \\\n",
       "0   Araku Valley  andhra-pradesh   Adventure     4.8   \n",
       "1  Visakhapatnam  andhra-pradesh       Beach     4.4   \n",
       "2     Amaravathi  andhra-pradesh   Religious     4.9   \n",
       "3      Gandikota  andhra-pradesh  Historical     4.5   \n",
       "4      Anantapur  andhra-pradesh  Historical     3.5   \n",
       "\n",
       "                                         description     best_time_to_visit  \\\n",
       "0  Araku Valley is a comparatively unexplored hil...  September to February   \n",
       "1  Visakhapatnam, also commonly known as Vizag, i...     September to March   \n",
       "2  Known as the Capital of Andhra Pradesh, Amarav...      November to March   \n",
       "3  Endearingly known as the ‘Grand Canyon of Indi...   November to February   \n",
       "4  Anantapuram is the headquarters of Anantapur D...     September to March   \n",
       "\n",
       "   avg_accommodation_cost/day(Rs)  \n",
       "0                         5480.20  \n",
       "1                         3630.07  \n",
       "2                         2246.98  \n",
       "3                         3118.42  \n",
       "4                         3092.95  "
      ]
     },
     "execution_count": 3,
     "metadata": {},
     "output_type": "execute_result"
    }
   ],
   "source": [
    "df.head()"
   ]
  },
  {
   "cell_type": "code",
   "execution_count": 4,
   "metadata": {},
   "outputs": [
    {
     "data": {
      "text/html": [
       "<div>\n",
       "<style scoped>\n",
       "    .dataframe tbody tr th:only-of-type {\n",
       "        vertical-align: middle;\n",
       "    }\n",
       "\n",
       "    .dataframe tbody tr th {\n",
       "        vertical-align: top;\n",
       "    }\n",
       "\n",
       "    .dataframe thead th {\n",
       "        text-align: right;\n",
       "    }\n",
       "</style>\n",
       "<table border=\"1\" class=\"dataframe\">\n",
       "  <thead>\n",
       "    <tr style=\"text-align: right;\">\n",
       "      <th></th>\n",
       "      <th>places</th>\n",
       "      <th>state</th>\n",
       "      <th>type</th>\n",
       "      <th>rating</th>\n",
       "      <th>description</th>\n",
       "      <th>best_time_to_visit</th>\n",
       "      <th>avg_accommodation_cost/day(Rs)</th>\n",
       "    </tr>\n",
       "  </thead>\n",
       "  <tbody>\n",
       "    <tr>\n",
       "      <th>0</th>\n",
       "      <td>Araku Valley</td>\n",
       "      <td>andhra-pradesh</td>\n",
       "      <td>Adventure</td>\n",
       "      <td>4.8</td>\n",
       "      <td>Araku Valley is a comparatively unexplored hil...</td>\n",
       "      <td>September to February</td>\n",
       "      <td>5480.2</td>\n",
       "    </tr>\n",
       "  </tbody>\n",
       "</table>\n",
       "</div>"
      ],
      "text/plain": [
       "         places           state       type  rating  \\\n",
       "0  Araku Valley  andhra-pradesh  Adventure     4.8   \n",
       "\n",
       "                                         description     best_time_to_visit  \\\n",
       "0  Araku Valley is a comparatively unexplored hil...  September to February   \n",
       "\n",
       "   avg_accommodation_cost/day(Rs)  \n",
       "0                          5480.2  "
      ]
     },
     "execution_count": 4,
     "metadata": {},
     "output_type": "execute_result"
    }
   ],
   "source": [
    "df.iloc[0:1,:]"
   ]
  },
  {
   "cell_type": "code",
   "execution_count": 5,
   "metadata": {},
   "outputs": [
    {
     "data": {
      "text/html": [
       "<div>\n",
       "<style scoped>\n",
       "    .dataframe tbody tr th:only-of-type {\n",
       "        vertical-align: middle;\n",
       "    }\n",
       "\n",
       "    .dataframe tbody tr th {\n",
       "        vertical-align: top;\n",
       "    }\n",
       "\n",
       "    .dataframe thead th {\n",
       "        text-align: right;\n",
       "    }\n",
       "</style>\n",
       "<table border=\"1\" class=\"dataframe\">\n",
       "  <thead>\n",
       "    <tr style=\"text-align: right;\">\n",
       "      <th></th>\n",
       "      <th>places</th>\n",
       "      <th>state</th>\n",
       "      <th>type</th>\n",
       "      <th>rating</th>\n",
       "      <th>description</th>\n",
       "      <th>best_time_to_visit</th>\n",
       "      <th>avg_accommodation_cost/day(Rs)</th>\n",
       "    </tr>\n",
       "  </thead>\n",
       "  <tbody>\n",
       "    <tr>\n",
       "      <th>0</th>\n",
       "      <td>Araku Valley</td>\n",
       "      <td>andhra-pradesh</td>\n",
       "      <td>Adventure</td>\n",
       "      <td>4.8</td>\n",
       "      <td>Araku Valley is a comparatively unexplored hil...</td>\n",
       "      <td>September to February</td>\n",
       "      <td>5480.2</td>\n",
       "    </tr>\n",
       "  </tbody>\n",
       "</table>\n",
       "</div>"
      ],
      "text/plain": [
       "         places           state       type  rating  \\\n",
       "0  Araku Valley  andhra-pradesh  Adventure     4.8   \n",
       "\n",
       "                                         description     best_time_to_visit  \\\n",
       "0  Araku Valley is a comparatively unexplored hil...  September to February   \n",
       "\n",
       "   avg_accommodation_cost/day(Rs)  \n",
       "0                          5480.2  "
      ]
     },
     "execution_count": 5,
     "metadata": {},
     "output_type": "execute_result"
    }
   ],
   "source": [
    "df.head(1)"
   ]
  },
  {
   "cell_type": "code",
   "execution_count": 6,
   "metadata": {},
   "outputs": [],
   "source": [
    "# genres\n",
    "# id\n",
    "# keywords\n",
    "# title\n",
    "# overview\n",
    "# cast\n",
    "# crew"
   ]
  },
  {
   "cell_type": "code",
   "execution_count": 7,
   "metadata": {},
   "outputs": [
    {
     "data": {
      "text/plain": [
       "Index(['places', 'state', 'type', 'rating', 'description',\n",
       "       'best_time_to_visit', 'avg_accommodation_cost/day(Rs)'],\n",
       "      dtype='object')"
      ]
     },
     "execution_count": 7,
     "metadata": {},
     "output_type": "execute_result"
    }
   ],
   "source": [
    "df.columns"
   ]
  },
  {
   "cell_type": "code",
   "execution_count": 8,
   "metadata": {},
   "outputs": [
    {
     "data": {
      "text/plain": [
       "places                            0\n",
       "state                             0\n",
       "type                              0\n",
       "rating                            0\n",
       "description                       0\n",
       "best_time_to_visit                0\n",
       "avg_accommodation_cost/day(Rs)    0\n",
       "dtype: int64"
      ]
     },
     "execution_count": 8,
     "metadata": {},
     "output_type": "execute_result"
    }
   ],
   "source": [
    "df.isnull().sum()"
   ]
  },
  {
   "cell_type": "code",
   "execution_count": 9,
   "metadata": {},
   "outputs": [
    {
     "data": {
      "text/plain": [
       "0"
      ]
     },
     "execution_count": 9,
     "metadata": {},
     "output_type": "execute_result"
    }
   ],
   "source": [
    "df.duplicated().sum()"
   ]
  },
  {
   "cell_type": "code",
   "execution_count": 10,
   "metadata": {},
   "outputs": [
    {
     "data": {
      "text/html": [
       "<div>\n",
       "<style scoped>\n",
       "    .dataframe tbody tr th:only-of-type {\n",
       "        vertical-align: middle;\n",
       "    }\n",
       "\n",
       "    .dataframe tbody tr th {\n",
       "        vertical-align: top;\n",
       "    }\n",
       "\n",
       "    .dataframe thead th {\n",
       "        text-align: right;\n",
       "    }\n",
       "</style>\n",
       "<table border=\"1\" class=\"dataframe\">\n",
       "  <thead>\n",
       "    <tr style=\"text-align: right;\">\n",
       "      <th></th>\n",
       "      <th>places</th>\n",
       "      <th>state</th>\n",
       "      <th>type</th>\n",
       "      <th>rating</th>\n",
       "      <th>description</th>\n",
       "      <th>best_time_to_visit</th>\n",
       "      <th>avg_accommodation_cost/day(Rs)</th>\n",
       "    </tr>\n",
       "  </thead>\n",
       "  <tbody>\n",
       "    <tr>\n",
       "      <th>0</th>\n",
       "      <td>Araku Valley</td>\n",
       "      <td>andhra-pradesh</td>\n",
       "      <td>Adventure</td>\n",
       "      <td>4.8</td>\n",
       "      <td>Araku Valley is a comparatively unexplored hil...</td>\n",
       "      <td>September to February</td>\n",
       "      <td>5480.2</td>\n",
       "    </tr>\n",
       "  </tbody>\n",
       "</table>\n",
       "</div>"
      ],
      "text/plain": [
       "         places           state       type  rating  \\\n",
       "0  Araku Valley  andhra-pradesh  Adventure     4.8   \n",
       "\n",
       "                                         description     best_time_to_visit  \\\n",
       "0  Araku Valley is a comparatively unexplored hil...  September to February   \n",
       "\n",
       "   avg_accommodation_cost/day(Rs)  \n",
       "0                          5480.2  "
      ]
     },
     "execution_count": 10,
     "metadata": {},
     "output_type": "execute_result"
    }
   ],
   "source": [
    "df.head(1)"
   ]
  },
  {
   "cell_type": "code",
   "execution_count": 11,
   "metadata": {},
   "outputs": [
    {
     "data": {
      "text/plain": [
       "0      [Araku, Valley, is, a, comparatively, unexplor...\n",
       "1      [Visakhapatnam,, also, commonly, known, as, Vi...\n",
       "2      [Known, as, the, Capital, of, Andhra, Pradesh,...\n",
       "3      [Endearingly, known, as, the, ‘Grand, Canyon, ...\n",
       "4      [Anantapuram, is, the, headquarters, of, Anant...\n",
       "                             ...                        \n",
       "635    [Situated, in, the, Barabanki, district, of, U...\n",
       "636    [Bithoor, is, a, quaint, little, town, nestled...\n",
       "637    [Also, known, as, Shahid, Chandra, Shekhar, Az...\n",
       "638    [Fort, Unchagaon, is, not, just, an, exception...\n",
       "639    [Located, on, the, banks, of, Gomti, River, in...\n",
       "Name: description, Length: 640, dtype: object"
      ]
     },
     "execution_count": 11,
     "metadata": {},
     "output_type": "execute_result"
    }
   ],
   "source": [
    "df['description'].apply(lambda x : x.split())"
   ]
  },
  {
   "cell_type": "code",
   "execution_count": 12,
   "metadata": {},
   "outputs": [],
   "source": [
    "df['description'] = df['description'].apply(lambda x : x.split())"
   ]
  },
  {
   "cell_type": "code",
   "execution_count": 13,
   "metadata": {},
   "outputs": [],
   "source": [
    "df['your_type'] = df['type']"
   ]
  },
  {
   "cell_type": "code",
   "execution_count": 14,
   "metadata": {},
   "outputs": [],
   "source": [
    "df['places'] = df['places'].apply(lambda x : x.split())\n",
    "df['state'] = df['state'].apply(lambda x : x.split())\n",
    "df['type'] = df['type'].apply(lambda x : x.split())"
   ]
  },
  {
   "cell_type": "code",
   "execution_count": 15,
   "metadata": {},
   "outputs": [
    {
     "data": {
      "text/html": [
       "<div>\n",
       "<style scoped>\n",
       "    .dataframe tbody tr th:only-of-type {\n",
       "        vertical-align: middle;\n",
       "    }\n",
       "\n",
       "    .dataframe tbody tr th {\n",
       "        vertical-align: top;\n",
       "    }\n",
       "\n",
       "    .dataframe thead th {\n",
       "        text-align: right;\n",
       "    }\n",
       "</style>\n",
       "<table border=\"1\" class=\"dataframe\">\n",
       "  <thead>\n",
       "    <tr style=\"text-align: right;\">\n",
       "      <th></th>\n",
       "      <th>places</th>\n",
       "      <th>state</th>\n",
       "      <th>type</th>\n",
       "      <th>rating</th>\n",
       "      <th>description</th>\n",
       "      <th>best_time_to_visit</th>\n",
       "      <th>avg_accommodation_cost/day(Rs)</th>\n",
       "      <th>your_type</th>\n",
       "    </tr>\n",
       "  </thead>\n",
       "  <tbody>\n",
       "    <tr>\n",
       "      <th>0</th>\n",
       "      <td>[Araku, Valley]</td>\n",
       "      <td>[andhra-pradesh]</td>\n",
       "      <td>[Adventure]</td>\n",
       "      <td>4.8</td>\n",
       "      <td>[Araku, Valley, is, a, comparatively, unexplor...</td>\n",
       "      <td>September to February</td>\n",
       "      <td>5480.20</td>\n",
       "      <td>Adventure</td>\n",
       "    </tr>\n",
       "    <tr>\n",
       "      <th>1</th>\n",
       "      <td>[Visakhapatnam]</td>\n",
       "      <td>[andhra-pradesh]</td>\n",
       "      <td>[Beach]</td>\n",
       "      <td>4.4</td>\n",
       "      <td>[Visakhapatnam,, also, commonly, known, as, Vi...</td>\n",
       "      <td>September to March</td>\n",
       "      <td>3630.07</td>\n",
       "      <td>Beach</td>\n",
       "    </tr>\n",
       "    <tr>\n",
       "      <th>2</th>\n",
       "      <td>[Amaravathi]</td>\n",
       "      <td>[andhra-pradesh]</td>\n",
       "      <td>[Religious]</td>\n",
       "      <td>4.9</td>\n",
       "      <td>[Known, as, the, Capital, of, Andhra, Pradesh,...</td>\n",
       "      <td>November to March</td>\n",
       "      <td>2246.98</td>\n",
       "      <td>Religious</td>\n",
       "    </tr>\n",
       "    <tr>\n",
       "      <th>3</th>\n",
       "      <td>[Gandikota]</td>\n",
       "      <td>[andhra-pradesh]</td>\n",
       "      <td>[Historical]</td>\n",
       "      <td>4.5</td>\n",
       "      <td>[Endearingly, known, as, the, ‘Grand, Canyon, ...</td>\n",
       "      <td>November to February</td>\n",
       "      <td>3118.42</td>\n",
       "      <td>Historical</td>\n",
       "    </tr>\n",
       "    <tr>\n",
       "      <th>4</th>\n",
       "      <td>[Anantapur]</td>\n",
       "      <td>[andhra-pradesh]</td>\n",
       "      <td>[Historical]</td>\n",
       "      <td>3.5</td>\n",
       "      <td>[Anantapuram, is, the, headquarters, of, Anant...</td>\n",
       "      <td>September to March</td>\n",
       "      <td>3092.95</td>\n",
       "      <td>Historical</td>\n",
       "    </tr>\n",
       "  </tbody>\n",
       "</table>\n",
       "</div>"
      ],
      "text/plain": [
       "            places             state          type  rating  \\\n",
       "0  [Araku, Valley]  [andhra-pradesh]   [Adventure]     4.8   \n",
       "1  [Visakhapatnam]  [andhra-pradesh]       [Beach]     4.4   \n",
       "2     [Amaravathi]  [andhra-pradesh]   [Religious]     4.9   \n",
       "3      [Gandikota]  [andhra-pradesh]  [Historical]     4.5   \n",
       "4      [Anantapur]  [andhra-pradesh]  [Historical]     3.5   \n",
       "\n",
       "                                         description     best_time_to_visit  \\\n",
       "0  [Araku, Valley, is, a, comparatively, unexplor...  September to February   \n",
       "1  [Visakhapatnam,, also, commonly, known, as, Vi...     September to March   \n",
       "2  [Known, as, the, Capital, of, Andhra, Pradesh,...      November to March   \n",
       "3  [Endearingly, known, as, the, ‘Grand, Canyon, ...   November to February   \n",
       "4  [Anantapuram, is, the, headquarters, of, Anant...     September to March   \n",
       "\n",
       "   avg_accommodation_cost/day(Rs)   your_type  \n",
       "0                         5480.20   Adventure  \n",
       "1                         3630.07       Beach  \n",
       "2                         2246.98   Religious  \n",
       "3                         3118.42  Historical  \n",
       "4                         3092.95  Historical  "
      ]
     },
     "execution_count": 15,
     "metadata": {},
     "output_type": "execute_result"
    }
   ],
   "source": [
    "df.head()"
   ]
  },
  {
   "cell_type": "code",
   "execution_count": 16,
   "metadata": {},
   "outputs": [],
   "source": [
    "a = 'September to February'"
   ]
  },
  {
   "cell_type": "code",
   "execution_count": 17,
   "metadata": {},
   "outputs": [
    {
     "data": {
      "text/plain": [
       "'SeptembertoFebruary'"
      ]
     },
     "execution_count": 17,
     "metadata": {},
     "output_type": "execute_result"
    }
   ],
   "source": [
    "a.replace(' ','')"
   ]
  },
  {
   "cell_type": "code",
   "execution_count": 18,
   "metadata": {},
   "outputs": [
    {
     "data": {
      "text/plain": [
       "0      SeptembertoFebruary\n",
       "1         SeptembertoMarch\n",
       "2          NovembertoMarch\n",
       "3       NovembertoFebruary\n",
       "4         SeptembertoMarch\n",
       "              ...         \n",
       "635             April-June\n",
       "636             April-June\n",
       "637             April-June\n",
       "638             April-June\n",
       "639             April-June\n",
       "Name: best_time_to_visit, Length: 640, dtype: object"
      ]
     },
     "execution_count": 18,
     "metadata": {},
     "output_type": "execute_result"
    }
   ],
   "source": [
    "df['best_time_to_visit'].apply(lambda x : x.replace(' ',''))"
   ]
  },
  {
   "cell_type": "code",
   "execution_count": 19,
   "metadata": {},
   "outputs": [],
   "source": [
    "df['best_time_to_visit'] = df['best_time_to_visit'].apply(lambda x : x.replace(' ',''))"
   ]
  },
  {
   "cell_type": "code",
   "execution_count": 20,
   "metadata": {},
   "outputs": [
    {
     "data": {
      "text/html": [
       "<div>\n",
       "<style scoped>\n",
       "    .dataframe tbody tr th:only-of-type {\n",
       "        vertical-align: middle;\n",
       "    }\n",
       "\n",
       "    .dataframe tbody tr th {\n",
       "        vertical-align: top;\n",
       "    }\n",
       "\n",
       "    .dataframe thead th {\n",
       "        text-align: right;\n",
       "    }\n",
       "</style>\n",
       "<table border=\"1\" class=\"dataframe\">\n",
       "  <thead>\n",
       "    <tr style=\"text-align: right;\">\n",
       "      <th></th>\n",
       "      <th>places</th>\n",
       "      <th>state</th>\n",
       "      <th>type</th>\n",
       "      <th>rating</th>\n",
       "      <th>description</th>\n",
       "      <th>best_time_to_visit</th>\n",
       "      <th>avg_accommodation_cost/day(Rs)</th>\n",
       "      <th>your_type</th>\n",
       "    </tr>\n",
       "  </thead>\n",
       "  <tbody>\n",
       "    <tr>\n",
       "      <th>0</th>\n",
       "      <td>[Araku, Valley]</td>\n",
       "      <td>[andhra-pradesh]</td>\n",
       "      <td>[Adventure]</td>\n",
       "      <td>4.8</td>\n",
       "      <td>[Araku, Valley, is, a, comparatively, unexplor...</td>\n",
       "      <td>SeptembertoFebruary</td>\n",
       "      <td>5480.20</td>\n",
       "      <td>Adventure</td>\n",
       "    </tr>\n",
       "    <tr>\n",
       "      <th>1</th>\n",
       "      <td>[Visakhapatnam]</td>\n",
       "      <td>[andhra-pradesh]</td>\n",
       "      <td>[Beach]</td>\n",
       "      <td>4.4</td>\n",
       "      <td>[Visakhapatnam,, also, commonly, known, as, Vi...</td>\n",
       "      <td>SeptembertoMarch</td>\n",
       "      <td>3630.07</td>\n",
       "      <td>Beach</td>\n",
       "    </tr>\n",
       "    <tr>\n",
       "      <th>2</th>\n",
       "      <td>[Amaravathi]</td>\n",
       "      <td>[andhra-pradesh]</td>\n",
       "      <td>[Religious]</td>\n",
       "      <td>4.9</td>\n",
       "      <td>[Known, as, the, Capital, of, Andhra, Pradesh,...</td>\n",
       "      <td>NovembertoMarch</td>\n",
       "      <td>2246.98</td>\n",
       "      <td>Religious</td>\n",
       "    </tr>\n",
       "    <tr>\n",
       "      <th>3</th>\n",
       "      <td>[Gandikota]</td>\n",
       "      <td>[andhra-pradesh]</td>\n",
       "      <td>[Historical]</td>\n",
       "      <td>4.5</td>\n",
       "      <td>[Endearingly, known, as, the, ‘Grand, Canyon, ...</td>\n",
       "      <td>NovembertoFebruary</td>\n",
       "      <td>3118.42</td>\n",
       "      <td>Historical</td>\n",
       "    </tr>\n",
       "    <tr>\n",
       "      <th>4</th>\n",
       "      <td>[Anantapur]</td>\n",
       "      <td>[andhra-pradesh]</td>\n",
       "      <td>[Historical]</td>\n",
       "      <td>3.5</td>\n",
       "      <td>[Anantapuram, is, the, headquarters, of, Anant...</td>\n",
       "      <td>SeptembertoMarch</td>\n",
       "      <td>3092.95</td>\n",
       "      <td>Historical</td>\n",
       "    </tr>\n",
       "  </tbody>\n",
       "</table>\n",
       "</div>"
      ],
      "text/plain": [
       "            places             state          type  rating  \\\n",
       "0  [Araku, Valley]  [andhra-pradesh]   [Adventure]     4.8   \n",
       "1  [Visakhapatnam]  [andhra-pradesh]       [Beach]     4.4   \n",
       "2     [Amaravathi]  [andhra-pradesh]   [Religious]     4.9   \n",
       "3      [Gandikota]  [andhra-pradesh]  [Historical]     4.5   \n",
       "4      [Anantapur]  [andhra-pradesh]  [Historical]     3.5   \n",
       "\n",
       "                                         description   best_time_to_visit  \\\n",
       "0  [Araku, Valley, is, a, comparatively, unexplor...  SeptembertoFebruary   \n",
       "1  [Visakhapatnam,, also, commonly, known, as, Vi...     SeptembertoMarch   \n",
       "2  [Known, as, the, Capital, of, Andhra, Pradesh,...      NovembertoMarch   \n",
       "3  [Endearingly, known, as, the, ‘Grand, Canyon, ...   NovembertoFebruary   \n",
       "4  [Anantapuram, is, the, headquarters, of, Anant...     SeptembertoMarch   \n",
       "\n",
       "   avg_accommodation_cost/day(Rs)   your_type  \n",
       "0                         5480.20   Adventure  \n",
       "1                         3630.07       Beach  \n",
       "2                         2246.98   Religious  \n",
       "3                         3118.42  Historical  \n",
       "4                         3092.95  Historical  "
      ]
     },
     "execution_count": 20,
     "metadata": {},
     "output_type": "execute_result"
    }
   ],
   "source": [
    "df.head()"
   ]
  },
  {
   "cell_type": "code",
   "execution_count": 21,
   "metadata": {},
   "outputs": [
    {
     "data": {
      "text/plain": [
       "0      [SeptembertoFebruary]\n",
       "1         [SeptembertoMarch]\n",
       "2          [NovembertoMarch]\n",
       "3       [NovembertoFebruary]\n",
       "4         [SeptembertoMarch]\n",
       "               ...          \n",
       "635             [April-June]\n",
       "636             [April-June]\n",
       "637             [April-June]\n",
       "638             [April-June]\n",
       "639             [April-June]\n",
       "Name: best_time_to_visit, Length: 640, dtype: object"
      ]
     },
     "execution_count": 21,
     "metadata": {},
     "output_type": "execute_result"
    }
   ],
   "source": [
    "df['best_time_to_visit'].apply(lambda x : x.split())"
   ]
  },
  {
   "cell_type": "code",
   "execution_count": 22,
   "metadata": {},
   "outputs": [],
   "source": [
    "df['best_time_to_visit'] = df['best_time_to_visit'].apply(lambda x : x.split())"
   ]
  },
  {
   "cell_type": "code",
   "execution_count": 23,
   "metadata": {},
   "outputs": [
    {
     "data": {
      "text/plain": [
       "0                   [Araku, Valley]\n",
       "1                   [Visakhapatnam]\n",
       "2                      [Amaravathi]\n",
       "3                       [Gandikota]\n",
       "4                       [Anantapur]\n",
       "                   ...             \n",
       "635                  [Dewa, Sharif]\n",
       "636                       [Bithoor]\n",
       "637    [Nawabganj, Bird, Sanctuary]\n",
       "638           [Fort, of, Unchagaon]\n",
       "639                 [Naimisharanya]\n",
       "Name: places, Length: 640, dtype: object"
      ]
     },
     "execution_count": 23,
     "metadata": {},
     "output_type": "execute_result"
    }
   ],
   "source": [
    "df['places'].apply(lambda x: [i.replace(\" \",\"\") for i in x])"
   ]
  },
  {
   "cell_type": "code",
   "execution_count": 24,
   "metadata": {},
   "outputs": [
    {
     "data": {
      "text/html": [
       "<div>\n",
       "<style scoped>\n",
       "    .dataframe tbody tr th:only-of-type {\n",
       "        vertical-align: middle;\n",
       "    }\n",
       "\n",
       "    .dataframe tbody tr th {\n",
       "        vertical-align: top;\n",
       "    }\n",
       "\n",
       "    .dataframe thead th {\n",
       "        text-align: right;\n",
       "    }\n",
       "</style>\n",
       "<table border=\"1\" class=\"dataframe\">\n",
       "  <thead>\n",
       "    <tr style=\"text-align: right;\">\n",
       "      <th></th>\n",
       "      <th>places</th>\n",
       "      <th>state</th>\n",
       "      <th>type</th>\n",
       "      <th>rating</th>\n",
       "      <th>description</th>\n",
       "      <th>best_time_to_visit</th>\n",
       "      <th>avg_accommodation_cost/day(Rs)</th>\n",
       "      <th>your_type</th>\n",
       "    </tr>\n",
       "  </thead>\n",
       "  <tbody>\n",
       "    <tr>\n",
       "      <th>0</th>\n",
       "      <td>[Araku, Valley]</td>\n",
       "      <td>[andhra-pradesh]</td>\n",
       "      <td>[Adventure]</td>\n",
       "      <td>4.8</td>\n",
       "      <td>[Araku, Valley, is, a, comparatively, unexplor...</td>\n",
       "      <td>[SeptembertoFebruary]</td>\n",
       "      <td>5480.2</td>\n",
       "      <td>Adventure</td>\n",
       "    </tr>\n",
       "  </tbody>\n",
       "</table>\n",
       "</div>"
      ],
      "text/plain": [
       "            places             state         type  rating  \\\n",
       "0  [Araku, Valley]  [andhra-pradesh]  [Adventure]     4.8   \n",
       "\n",
       "                                         description     best_time_to_visit  \\\n",
       "0  [Araku, Valley, is, a, comparatively, unexplor...  [SeptembertoFebruary]   \n",
       "\n",
       "   avg_accommodation_cost/day(Rs)  your_type  \n",
       "0                          5480.2  Adventure  "
      ]
     },
     "execution_count": 24,
     "metadata": {},
     "output_type": "execute_result"
    }
   ],
   "source": [
    "df.head(1)"
   ]
  },
  {
   "cell_type": "code",
   "execution_count": 25,
   "metadata": {},
   "outputs": [],
   "source": [
    "df['places'] = df['places'].apply(lambda x: [i.replace(\" \",\"\") for i in x])\n",
    "df['state'] = df['state'].apply(lambda x: [i.replace(\"-\",\"\") for i in x])"
   ]
  },
  {
   "cell_type": "code",
   "execution_count": 26,
   "metadata": {},
   "outputs": [
    {
     "data": {
      "text/html": [
       "<div>\n",
       "<style scoped>\n",
       "    .dataframe tbody tr th:only-of-type {\n",
       "        vertical-align: middle;\n",
       "    }\n",
       "\n",
       "    .dataframe tbody tr th {\n",
       "        vertical-align: top;\n",
       "    }\n",
       "\n",
       "    .dataframe thead th {\n",
       "        text-align: right;\n",
       "    }\n",
       "</style>\n",
       "<table border=\"1\" class=\"dataframe\">\n",
       "  <thead>\n",
       "    <tr style=\"text-align: right;\">\n",
       "      <th></th>\n",
       "      <th>places</th>\n",
       "      <th>state</th>\n",
       "      <th>type</th>\n",
       "      <th>rating</th>\n",
       "      <th>description</th>\n",
       "      <th>best_time_to_visit</th>\n",
       "      <th>avg_accommodation_cost/day(Rs)</th>\n",
       "      <th>your_type</th>\n",
       "    </tr>\n",
       "  </thead>\n",
       "  <tbody>\n",
       "    <tr>\n",
       "      <th>0</th>\n",
       "      <td>[Araku, Valley]</td>\n",
       "      <td>[andhrapradesh]</td>\n",
       "      <td>[Adventure]</td>\n",
       "      <td>4.8</td>\n",
       "      <td>[Araku, Valley, is, a, comparatively, unexplor...</td>\n",
       "      <td>[SeptembertoFebruary]</td>\n",
       "      <td>5480.20</td>\n",
       "      <td>Adventure</td>\n",
       "    </tr>\n",
       "    <tr>\n",
       "      <th>1</th>\n",
       "      <td>[Visakhapatnam]</td>\n",
       "      <td>[andhrapradesh]</td>\n",
       "      <td>[Beach]</td>\n",
       "      <td>4.4</td>\n",
       "      <td>[Visakhapatnam,, also, commonly, known, as, Vi...</td>\n",
       "      <td>[SeptembertoMarch]</td>\n",
       "      <td>3630.07</td>\n",
       "      <td>Beach</td>\n",
       "    </tr>\n",
       "    <tr>\n",
       "      <th>2</th>\n",
       "      <td>[Amaravathi]</td>\n",
       "      <td>[andhrapradesh]</td>\n",
       "      <td>[Religious]</td>\n",
       "      <td>4.9</td>\n",
       "      <td>[Known, as, the, Capital, of, Andhra, Pradesh,...</td>\n",
       "      <td>[NovembertoMarch]</td>\n",
       "      <td>2246.98</td>\n",
       "      <td>Religious</td>\n",
       "    </tr>\n",
       "    <tr>\n",
       "      <th>3</th>\n",
       "      <td>[Gandikota]</td>\n",
       "      <td>[andhrapradesh]</td>\n",
       "      <td>[Historical]</td>\n",
       "      <td>4.5</td>\n",
       "      <td>[Endearingly, known, as, the, ‘Grand, Canyon, ...</td>\n",
       "      <td>[NovembertoFebruary]</td>\n",
       "      <td>3118.42</td>\n",
       "      <td>Historical</td>\n",
       "    </tr>\n",
       "    <tr>\n",
       "      <th>4</th>\n",
       "      <td>[Anantapur]</td>\n",
       "      <td>[andhrapradesh]</td>\n",
       "      <td>[Historical]</td>\n",
       "      <td>3.5</td>\n",
       "      <td>[Anantapuram, is, the, headquarters, of, Anant...</td>\n",
       "      <td>[SeptembertoMarch]</td>\n",
       "      <td>3092.95</td>\n",
       "      <td>Historical</td>\n",
       "    </tr>\n",
       "  </tbody>\n",
       "</table>\n",
       "</div>"
      ],
      "text/plain": [
       "            places            state          type  rating  \\\n",
       "0  [Araku, Valley]  [andhrapradesh]   [Adventure]     4.8   \n",
       "1  [Visakhapatnam]  [andhrapradesh]       [Beach]     4.4   \n",
       "2     [Amaravathi]  [andhrapradesh]   [Religious]     4.9   \n",
       "3      [Gandikota]  [andhrapradesh]  [Historical]     4.5   \n",
       "4      [Anantapur]  [andhrapradesh]  [Historical]     3.5   \n",
       "\n",
       "                                         description     best_time_to_visit  \\\n",
       "0  [Araku, Valley, is, a, comparatively, unexplor...  [SeptembertoFebruary]   \n",
       "1  [Visakhapatnam,, also, commonly, known, as, Vi...     [SeptembertoMarch]   \n",
       "2  [Known, as, the, Capital, of, Andhra, Pradesh,...      [NovembertoMarch]   \n",
       "3  [Endearingly, known, as, the, ‘Grand, Canyon, ...   [NovembertoFebruary]   \n",
       "4  [Anantapuram, is, the, headquarters, of, Anant...     [SeptembertoMarch]   \n",
       "\n",
       "   avg_accommodation_cost/day(Rs)   your_type  \n",
       "0                         5480.20   Adventure  \n",
       "1                         3630.07       Beach  \n",
       "2                         2246.98   Religious  \n",
       "3                         3118.42  Historical  \n",
       "4                         3092.95  Historical  "
      ]
     },
     "execution_count": 26,
     "metadata": {},
     "output_type": "execute_result"
    }
   ],
   "source": [
    "df.head()"
   ]
  },
  {
   "cell_type": "code",
   "execution_count": 27,
   "metadata": {},
   "outputs": [],
   "source": [
    "df['all'] = df['places'] + df['state'] + df['type'] + df['description'] + df['best_time_to_visit']"
   ]
  },
  {
   "cell_type": "code",
   "execution_count": 28,
   "metadata": {},
   "outputs": [],
   "source": [
    "def update_list(row):\n",
    "    row['all'].append(row['avg_accommodation_cost/day(Rs)'])\n",
    "    row['all'].append(row['rating'])\n",
    "    return row['all']"
   ]
  },
  {
   "cell_type": "code",
   "execution_count": 29,
   "metadata": {},
   "outputs": [],
   "source": [
    "df['all'] = df.apply(update_list, axis=1)"
   ]
  },
  {
   "cell_type": "code",
   "execution_count": 30,
   "metadata": {},
   "outputs": [
    {
     "data": {
      "text/html": [
       "<div>\n",
       "<style scoped>\n",
       "    .dataframe tbody tr th:only-of-type {\n",
       "        vertical-align: middle;\n",
       "    }\n",
       "\n",
       "    .dataframe tbody tr th {\n",
       "        vertical-align: top;\n",
       "    }\n",
       "\n",
       "    .dataframe thead th {\n",
       "        text-align: right;\n",
       "    }\n",
       "</style>\n",
       "<table border=\"1\" class=\"dataframe\">\n",
       "  <thead>\n",
       "    <tr style=\"text-align: right;\">\n",
       "      <th></th>\n",
       "      <th>places</th>\n",
       "      <th>state</th>\n",
       "      <th>type</th>\n",
       "      <th>rating</th>\n",
       "      <th>description</th>\n",
       "      <th>best_time_to_visit</th>\n",
       "      <th>avg_accommodation_cost/day(Rs)</th>\n",
       "      <th>your_type</th>\n",
       "      <th>all</th>\n",
       "    </tr>\n",
       "  </thead>\n",
       "  <tbody>\n",
       "    <tr>\n",
       "      <th>0</th>\n",
       "      <td>[Araku, Valley]</td>\n",
       "      <td>[andhrapradesh]</td>\n",
       "      <td>[Adventure]</td>\n",
       "      <td>4.8</td>\n",
       "      <td>[Araku, Valley, is, a, comparatively, unexplor...</td>\n",
       "      <td>[SeptembertoFebruary]</td>\n",
       "      <td>5480.2</td>\n",
       "      <td>Adventure</td>\n",
       "      <td>[Araku, Valley, andhrapradesh, Adventure, Arak...</td>\n",
       "    </tr>\n",
       "  </tbody>\n",
       "</table>\n",
       "</div>"
      ],
      "text/plain": [
       "            places            state         type  rating  \\\n",
       "0  [Araku, Valley]  [andhrapradesh]  [Adventure]     4.8   \n",
       "\n",
       "                                         description     best_time_to_visit  \\\n",
       "0  [Araku, Valley, is, a, comparatively, unexplor...  [SeptembertoFebruary]   \n",
       "\n",
       "   avg_accommodation_cost/day(Rs)  your_type  \\\n",
       "0                          5480.2  Adventure   \n",
       "\n",
       "                                                 all  \n",
       "0  [Araku, Valley, andhrapradesh, Adventure, Arak...  "
      ]
     },
     "execution_count": 30,
     "metadata": {},
     "output_type": "execute_result"
    }
   ],
   "source": [
    "df.head(1)"
   ]
  },
  {
   "cell_type": "code",
   "execution_count": 31,
   "metadata": {},
   "outputs": [],
   "source": [
    "new_df = df[['your_type','avg_accommodation_cost/day(Rs)','all']]"
   ]
  },
  {
   "cell_type": "code",
   "execution_count": 32,
   "metadata": {},
   "outputs": [
    {
     "data": {
      "text/html": [
       "<div>\n",
       "<style scoped>\n",
       "    .dataframe tbody tr th:only-of-type {\n",
       "        vertical-align: middle;\n",
       "    }\n",
       "\n",
       "    .dataframe tbody tr th {\n",
       "        vertical-align: top;\n",
       "    }\n",
       "\n",
       "    .dataframe thead th {\n",
       "        text-align: right;\n",
       "    }\n",
       "</style>\n",
       "<table border=\"1\" class=\"dataframe\">\n",
       "  <thead>\n",
       "    <tr style=\"text-align: right;\">\n",
       "      <th></th>\n",
       "      <th>your_type</th>\n",
       "      <th>avg_accommodation_cost/day(Rs)</th>\n",
       "      <th>all</th>\n",
       "    </tr>\n",
       "  </thead>\n",
       "  <tbody>\n",
       "    <tr>\n",
       "      <th>0</th>\n",
       "      <td>Adventure</td>\n",
       "      <td>5480.20</td>\n",
       "      <td>[Araku, Valley, andhrapradesh, Adventure, Arak...</td>\n",
       "    </tr>\n",
       "    <tr>\n",
       "      <th>1</th>\n",
       "      <td>Beach</td>\n",
       "      <td>3630.07</td>\n",
       "      <td>[Visakhapatnam, andhrapradesh, Beach, Visakhap...</td>\n",
       "    </tr>\n",
       "    <tr>\n",
       "      <th>2</th>\n",
       "      <td>Religious</td>\n",
       "      <td>2246.98</td>\n",
       "      <td>[Amaravathi, andhrapradesh, Religious, Known, ...</td>\n",
       "    </tr>\n",
       "    <tr>\n",
       "      <th>3</th>\n",
       "      <td>Historical</td>\n",
       "      <td>3118.42</td>\n",
       "      <td>[Gandikota, andhrapradesh, Historical, Endeari...</td>\n",
       "    </tr>\n",
       "    <tr>\n",
       "      <th>4</th>\n",
       "      <td>Historical</td>\n",
       "      <td>3092.95</td>\n",
       "      <td>[Anantapur, andhrapradesh, Historical, Anantap...</td>\n",
       "    </tr>\n",
       "  </tbody>\n",
       "</table>\n",
       "</div>"
      ],
      "text/plain": [
       "    your_type  avg_accommodation_cost/day(Rs)  \\\n",
       "0   Adventure                         5480.20   \n",
       "1       Beach                         3630.07   \n",
       "2   Religious                         2246.98   \n",
       "3  Historical                         3118.42   \n",
       "4  Historical                         3092.95   \n",
       "\n",
       "                                                 all  \n",
       "0  [Araku, Valley, andhrapradesh, Adventure, Arak...  \n",
       "1  [Visakhapatnam, andhrapradesh, Beach, Visakhap...  \n",
       "2  [Amaravathi, andhrapradesh, Religious, Known, ...  \n",
       "3  [Gandikota, andhrapradesh, Historical, Endeari...  \n",
       "4  [Anantapur, andhrapradesh, Historical, Anantap...  "
      ]
     },
     "execution_count": 32,
     "metadata": {},
     "output_type": "execute_result"
    }
   ],
   "source": [
    "new_df.head()"
   ]
  },
  {
   "cell_type": "code",
   "execution_count": 33,
   "metadata": {},
   "outputs": [],
   "source": [
    "l1 = ['Visakhapatnam',\n",
    " 'andhrapradesh',\n",
    " 'Beach',\n",
    " 'Visakhapatnam,',\n",
    " 'also',\n",
    " 'commonly',45.8,2001.55]"
   ]
  },
  {
   "cell_type": "code",
   "execution_count": 34,
   "metadata": {},
   "outputs": [],
   "source": [
    "result = \" \".join(map(str, l1))"
   ]
  },
  {
   "cell_type": "code",
   "execution_count": 35,
   "metadata": {},
   "outputs": [
    {
     "data": {
      "text/plain": [
       "'Visakhapatnam andhrapradesh Beach Visakhapatnam, also commonly 45.8 2001.55'"
      ]
     },
     "execution_count": 35,
     "metadata": {},
     "output_type": "execute_result"
    }
   ],
   "source": [
    "result"
   ]
  },
  {
   "cell_type": "code",
   "execution_count": 36,
   "metadata": {},
   "outputs": [
    {
     "data": {
      "text/plain": [
       "'Visakhapatnam andhrapradesh Beach Visakhapatnam, also commonly known as Vizag, is one of the oldest port cities in the country. Situated in the heart of Andhra Pradesh, Vizag was announced as the state capital of Andhra Pradesh on January 31, 2023. The city is known for its picturesque beaches and serene landscape, as well as a... SeptembertoMarch 3630.07 4.4'"
      ]
     },
     "execution_count": 36,
     "metadata": {},
     "output_type": "execute_result"
    }
   ],
   "source": [
    "new_df['all'].apply(lambda x: \" \".join(map(str, x)))[1]"
   ]
  },
  {
   "cell_type": "code",
   "execution_count": 37,
   "metadata": {},
   "outputs": [
    {
     "name": "stderr",
     "output_type": "stream",
     "text": [
      "/tmp/ipykernel_12909/1188700813.py:1: SettingWithCopyWarning: \n",
      "A value is trying to be set on a copy of a slice from a DataFrame.\n",
      "Try using .loc[row_indexer,col_indexer] = value instead\n",
      "\n",
      "See the caveats in the documentation: https://pandas.pydata.org/pandas-docs/stable/user_guide/indexing.html#returning-a-view-versus-a-copy\n",
      "  new_df['all'] = new_df['all'].apply(lambda x: \" \".join(map(str, x)))\n"
     ]
    }
   ],
   "source": [
    "new_df['all'] = new_df['all'].apply(lambda x: \" \".join(map(str, x)))"
   ]
  },
  {
   "cell_type": "code",
   "execution_count": 38,
   "metadata": {},
   "outputs": [
    {
     "data": {
      "text/html": [
       "<div>\n",
       "<style scoped>\n",
       "    .dataframe tbody tr th:only-of-type {\n",
       "        vertical-align: middle;\n",
       "    }\n",
       "\n",
       "    .dataframe tbody tr th {\n",
       "        vertical-align: top;\n",
       "    }\n",
       "\n",
       "    .dataframe thead th {\n",
       "        text-align: right;\n",
       "    }\n",
       "</style>\n",
       "<table border=\"1\" class=\"dataframe\">\n",
       "  <thead>\n",
       "    <tr style=\"text-align: right;\">\n",
       "      <th></th>\n",
       "      <th>your_type</th>\n",
       "      <th>avg_accommodation_cost/day(Rs)</th>\n",
       "      <th>all</th>\n",
       "    </tr>\n",
       "  </thead>\n",
       "  <tbody>\n",
       "    <tr>\n",
       "      <th>0</th>\n",
       "      <td>Adventure</td>\n",
       "      <td>5480.20</td>\n",
       "      <td>Araku Valley andhrapradesh Adventure Araku Val...</td>\n",
       "    </tr>\n",
       "    <tr>\n",
       "      <th>1</th>\n",
       "      <td>Beach</td>\n",
       "      <td>3630.07</td>\n",
       "      <td>Visakhapatnam andhrapradesh Beach Visakhapatna...</td>\n",
       "    </tr>\n",
       "    <tr>\n",
       "      <th>2</th>\n",
       "      <td>Religious</td>\n",
       "      <td>2246.98</td>\n",
       "      <td>Amaravathi andhrapradesh Religious Known as th...</td>\n",
       "    </tr>\n",
       "    <tr>\n",
       "      <th>3</th>\n",
       "      <td>Historical</td>\n",
       "      <td>3118.42</td>\n",
       "      <td>Gandikota andhrapradesh Historical Endearingly...</td>\n",
       "    </tr>\n",
       "    <tr>\n",
       "      <th>4</th>\n",
       "      <td>Historical</td>\n",
       "      <td>3092.95</td>\n",
       "      <td>Anantapur andhrapradesh Historical Anantapuram...</td>\n",
       "    </tr>\n",
       "  </tbody>\n",
       "</table>\n",
       "</div>"
      ],
      "text/plain": [
       "    your_type  avg_accommodation_cost/day(Rs)  \\\n",
       "0   Adventure                         5480.20   \n",
       "1       Beach                         3630.07   \n",
       "2   Religious                         2246.98   \n",
       "3  Historical                         3118.42   \n",
       "4  Historical                         3092.95   \n",
       "\n",
       "                                                 all  \n",
       "0  Araku Valley andhrapradesh Adventure Araku Val...  \n",
       "1  Visakhapatnam andhrapradesh Beach Visakhapatna...  \n",
       "2  Amaravathi andhrapradesh Religious Known as th...  \n",
       "3  Gandikota andhrapradesh Historical Endearingly...  \n",
       "4  Anantapur andhrapradesh Historical Anantapuram...  "
      ]
     },
     "execution_count": 38,
     "metadata": {},
     "output_type": "execute_result"
    }
   ],
   "source": [
    "new_df.head()"
   ]
  },
  {
   "cell_type": "code",
   "execution_count": 39,
   "metadata": {},
   "outputs": [
    {
     "name": "stderr",
     "output_type": "stream",
     "text": [
      "/tmp/ipykernel_12909/1275521402.py:1: SettingWithCopyWarning: \n",
      "A value is trying to be set on a copy of a slice from a DataFrame.\n",
      "Try using .loc[row_indexer,col_indexer] = value instead\n",
      "\n",
      "See the caveats in the documentation: https://pandas.pydata.org/pandas-docs/stable/user_guide/indexing.html#returning-a-view-versus-a-copy\n",
      "  new_df['all'] = new_df['all'].apply(lambda x:x.lower())\n"
     ]
    }
   ],
   "source": [
    "new_df['all'] = new_df['all'].apply(lambda x:x.lower())"
   ]
  },
  {
   "cell_type": "code",
   "execution_count": 40,
   "metadata": {},
   "outputs": [
    {
     "data": {
      "text/html": [
       "<div>\n",
       "<style scoped>\n",
       "    .dataframe tbody tr th:only-of-type {\n",
       "        vertical-align: middle;\n",
       "    }\n",
       "\n",
       "    .dataframe tbody tr th {\n",
       "        vertical-align: top;\n",
       "    }\n",
       "\n",
       "    .dataframe thead th {\n",
       "        text-align: right;\n",
       "    }\n",
       "</style>\n",
       "<table border=\"1\" class=\"dataframe\">\n",
       "  <thead>\n",
       "    <tr style=\"text-align: right;\">\n",
       "      <th></th>\n",
       "      <th>your_type</th>\n",
       "      <th>avg_accommodation_cost/day(Rs)</th>\n",
       "      <th>all</th>\n",
       "    </tr>\n",
       "  </thead>\n",
       "  <tbody>\n",
       "    <tr>\n",
       "      <th>0</th>\n",
       "      <td>Adventure</td>\n",
       "      <td>5480.20</td>\n",
       "      <td>araku valley andhrapradesh adventure araku val...</td>\n",
       "    </tr>\n",
       "    <tr>\n",
       "      <th>1</th>\n",
       "      <td>Beach</td>\n",
       "      <td>3630.07</td>\n",
       "      <td>visakhapatnam andhrapradesh beach visakhapatna...</td>\n",
       "    </tr>\n",
       "    <tr>\n",
       "      <th>2</th>\n",
       "      <td>Religious</td>\n",
       "      <td>2246.98</td>\n",
       "      <td>amaravathi andhrapradesh religious known as th...</td>\n",
       "    </tr>\n",
       "    <tr>\n",
       "      <th>3</th>\n",
       "      <td>Historical</td>\n",
       "      <td>3118.42</td>\n",
       "      <td>gandikota andhrapradesh historical endearingly...</td>\n",
       "    </tr>\n",
       "    <tr>\n",
       "      <th>4</th>\n",
       "      <td>Historical</td>\n",
       "      <td>3092.95</td>\n",
       "      <td>anantapur andhrapradesh historical anantapuram...</td>\n",
       "    </tr>\n",
       "  </tbody>\n",
       "</table>\n",
       "</div>"
      ],
      "text/plain": [
       "    your_type  avg_accommodation_cost/day(Rs)  \\\n",
       "0   Adventure                         5480.20   \n",
       "1       Beach                         3630.07   \n",
       "2   Religious                         2246.98   \n",
       "3  Historical                         3118.42   \n",
       "4  Historical                         3092.95   \n",
       "\n",
       "                                                 all  \n",
       "0  araku valley andhrapradesh adventure araku val...  \n",
       "1  visakhapatnam andhrapradesh beach visakhapatna...  \n",
       "2  amaravathi andhrapradesh religious known as th...  \n",
       "3  gandikota andhrapradesh historical endearingly...  \n",
       "4  anantapur andhrapradesh historical anantapuram...  "
      ]
     },
     "execution_count": 40,
     "metadata": {},
     "output_type": "execute_result"
    }
   ],
   "source": [
    "new_df.head()"
   ]
  },
  {
   "cell_type": "code",
   "execution_count": 41,
   "metadata": {},
   "outputs": [],
   "source": [
    "from sklearn.feature_extraction.text import CountVectorizer"
   ]
  },
  {
   "cell_type": "code",
   "execution_count": 42,
   "metadata": {},
   "outputs": [],
   "source": [
    "cv = CountVectorizer(max_features=5000, stop_words= 'english')"
   ]
  },
  {
   "cell_type": "code",
   "execution_count": 43,
   "metadata": {},
   "outputs": [
    {
     "data": {
      "text/plain": [
       "array([[0, 0, 0, ..., 0, 0, 0],\n",
       "       [0, 0, 0, ..., 0, 0, 0],\n",
       "       [0, 0, 0, ..., 0, 0, 0],\n",
       "       ...,\n",
       "       [0, 0, 0, ..., 0, 0, 0],\n",
       "       [0, 0, 0, ..., 0, 0, 0],\n",
       "       [0, 0, 0, ..., 0, 0, 0]])"
      ]
     },
     "execution_count": 43,
     "metadata": {},
     "output_type": "execute_result"
    }
   ],
   "source": [
    "cv.fit_transform(new_df['all']).toarray()"
   ]
  },
  {
   "cell_type": "code",
   "execution_count": 44,
   "metadata": {},
   "outputs": [],
   "source": [
    "vectors = cv.fit_transform(new_df['all']).toarray()"
   ]
  },
  {
   "cell_type": "code",
   "execution_count": 45,
   "metadata": {},
   "outputs": [
    {
     "name": "stdout",
     "output_type": "stream",
     "text": [
      "Defaulting to user installation because normal site-packages is not writeable\n",
      "Requirement already satisfied: nltk in /home/sunbeam/.local/lib/python3.10/site-packages (3.8.1)\n",
      "Requirement already satisfied: click in /home/sunbeam/.local/lib/python3.10/site-packages (from nltk) (8.1.4)\n",
      "Requirement already satisfied: joblib in /home/sunbeam/.local/lib/python3.10/site-packages (from nltk) (1.4.2)\n",
      "Requirement already satisfied: regex>=2021.8.3 in /home/sunbeam/.local/lib/python3.10/site-packages (from nltk) (2024.7.24)\n",
      "Requirement already satisfied: tqdm in /home/sunbeam/.local/lib/python3.10/site-packages (from nltk) (4.66.5)\n"
     ]
    }
   ],
   "source": [
    "!pip3 install nltk"
   ]
  },
  {
   "cell_type": "code",
   "execution_count": 46,
   "metadata": {},
   "outputs": [],
   "source": [
    "import nltk"
   ]
  },
  {
   "cell_type": "code",
   "execution_count": 47,
   "metadata": {},
   "outputs": [],
   "source": [
    "from nltk.stem.porter import PorterStemmer"
   ]
  },
  {
   "cell_type": "code",
   "execution_count": 48,
   "metadata": {},
   "outputs": [],
   "source": [
    "ps = PorterStemmer()"
   ]
  },
  {
   "cell_type": "code",
   "execution_count": 49,
   "metadata": {},
   "outputs": [],
   "source": [
    "def stem(text):\n",
    "    l = []\n",
    "    for i in text.split():\n",
    "        l.append(ps.stem(i))\n",
    "    return \" \".join(l)\n",
    "        "
   ]
  },
  {
   "cell_type": "code",
   "execution_count": 50,
   "metadata": {},
   "outputs": [
    {
     "data": {
      "text/plain": [
       "\"araku valley andhrapradesh adventure araku valley is a comparatively unexplored hill station mostly visited by locals as a weekend getaway and is situated some 120 kilometres away from vishakhapatnam. if you're a tourist looking for exclusivity and tranquillity, vistadome train leaves vishakhapatnam at 6.50 am, making way through 58 tu... septembertofebruary 5480.2 4.8\""
      ]
     },
     "execution_count": 50,
     "metadata": {},
     "output_type": "execute_result"
    }
   ],
   "source": [
    "new_df['all'][0]"
   ]
  },
  {
   "cell_type": "code",
   "execution_count": 51,
   "metadata": {},
   "outputs": [
    {
     "data": {
      "text/plain": [
       "\"araku valley andhrapradesh adventur araku valley is a compar unexplor hill station mostli visit by local as a weekend getaway and is situat some 120 kilometr away from vishakhapatnam. if you'r a tourist look for exclus and tranquillity, vistadom train leav vishakhapatnam at 6.50 am, make way through 58 tu... septembertofebruari 5480.2 4.8\""
      ]
     },
     "execution_count": 51,
     "metadata": {},
     "output_type": "execute_result"
    }
   ],
   "source": [
    "stem(\"araku valley andhrapradesh adventure araku valley is a comparatively unexplored hill station mostly visited by locals as a weekend getaway and is situated some 120 kilometres away from vishakhapatnam. if you're a tourist looking for exclusivity and tranquillity, vistadome train leaves vishakhapatnam at 6.50 am, making way through 58 tu... septembertofebruary 5480.2 4.8\")"
   ]
  },
  {
   "cell_type": "code",
   "execution_count": 52,
   "metadata": {},
   "outputs": [
    {
     "name": "stderr",
     "output_type": "stream",
     "text": [
      "/tmp/ipykernel_12909/1764766006.py:1: SettingWithCopyWarning: \n",
      "A value is trying to be set on a copy of a slice from a DataFrame.\n",
      "Try using .loc[row_indexer,col_indexer] = value instead\n",
      "\n",
      "See the caveats in the documentation: https://pandas.pydata.org/pandas-docs/stable/user_guide/indexing.html#returning-a-view-versus-a-copy\n",
      "  new_df['all'] = new_df['all'].apply(stem)\n"
     ]
    }
   ],
   "source": [
    "new_df['all'] = new_df['all'].apply(stem)"
   ]
  },
  {
   "cell_type": "code",
   "execution_count": 53,
   "metadata": {},
   "outputs": [],
   "source": [
    "cv = CountVectorizer(max_features=5000, stop_words= 'english')"
   ]
  },
  {
   "cell_type": "code",
   "execution_count": 54,
   "metadata": {},
   "outputs": [],
   "source": [
    "vectors = cv.fit_transform(new_df['all']).toarray()"
   ]
  },
  {
   "cell_type": "code",
   "execution_count": 55,
   "metadata": {},
   "outputs": [
    {
     "data": {
      "text/plain": [
       "array(['000', '02', '04', ..., 'zoo', 'zoolog', 'zuluk'], dtype=object)"
      ]
     },
     "execution_count": 55,
     "metadata": {},
     "output_type": "execute_result"
    }
   ],
   "source": [
    "cv.get_feature_names_out()"
   ]
  },
  {
   "cell_type": "code",
   "execution_count": 56,
   "metadata": {},
   "outputs": [],
   "source": [
    "from sklearn.metrics.pairwise import cosine_similarity"
   ]
  },
  {
   "cell_type": "code",
   "execution_count": 57,
   "metadata": {},
   "outputs": [
    {
     "data": {
      "text/plain": [
       "array([[1.        , 0.04508348, 0.02567481, ..., 0.01937097, 0.07502345,\n",
       "        0.        ],\n",
       "       [0.04508348, 1.        , 0.2372895 , ..., 0.03580574, 0.09245003,\n",
       "        0.1127087 ],\n",
       "       [0.02567481, 0.2372895 , 1.        , ..., 0.02039118, 0.02632491,\n",
       "        0.15404885],\n",
       "       ...,\n",
       "       [0.01937097, 0.03580574, 0.02039118, ..., 1.        , 0.05958436,\n",
       "        0.09685486],\n",
       "       [0.07502345, 0.09245003, 0.02632491, ..., 0.05958436, 1.        ,\n",
       "        0.1500469 ],\n",
       "       [0.        , 0.1127087 , 0.15404885, ..., 0.09685486, 0.1500469 ,\n",
       "        1.        ]])"
      ]
     },
     "execution_count": 57,
     "metadata": {},
     "output_type": "execute_result"
    }
   ],
   "source": [
    "cosine_similarity(vectors)"
   ]
  },
  {
   "cell_type": "code",
   "execution_count": 58,
   "metadata": {},
   "outputs": [],
   "source": [
    "similarity = cosine_similarity(vectors)"
   ]
  },
  {
   "cell_type": "code",
   "execution_count": 59,
   "metadata": {},
   "outputs": [
    {
     "data": {
      "text/plain": [
       "(640, 640)"
      ]
     },
     "execution_count": 59,
     "metadata": {},
     "output_type": "execute_result"
    }
   ],
   "source": [
    "similarity.shape"
   ]
  },
  {
   "cell_type": "code",
   "execution_count": 60,
   "metadata": {},
   "outputs": [
    {
     "data": {
      "text/plain": [
       "array([[1.        , 0.04508348, 0.02567481, ..., 0.01937097, 0.07502345,\n",
       "        0.        ],\n",
       "       [0.04508348, 1.        , 0.2372895 , ..., 0.03580574, 0.09245003,\n",
       "        0.1127087 ],\n",
       "       [0.02567481, 0.2372895 , 1.        , ..., 0.02039118, 0.02632491,\n",
       "        0.15404885],\n",
       "       ...,\n",
       "       [0.01937097, 0.03580574, 0.02039118, ..., 1.        , 0.05958436,\n",
       "        0.09685486],\n",
       "       [0.07502345, 0.09245003, 0.02632491, ..., 0.05958436, 1.        ,\n",
       "        0.1500469 ],\n",
       "       [0.        , 0.1127087 , 0.15404885, ..., 0.09685486, 0.1500469 ,\n",
       "        1.        ]])"
      ]
     },
     "execution_count": 60,
     "metadata": {},
     "output_type": "execute_result"
    }
   ],
   "source": [
    "similarity"
   ]
  },
  {
   "cell_type": "code",
   "execution_count": 61,
   "metadata": {},
   "outputs": [
    {
     "data": {
      "text/plain": [
       "array([0.02567481, 0.2372895 , 1.        , 0.15596257, 0.08458258,\n",
       "       0.18918919, 0.02398006, 0.15534244, 0.244225  , 0.17549427,\n",
       "       0.07045671, 0.20056488, 0.13812278, 0.09592023, 0.15042366,\n",
       "       0.03874921, 0.0474579 , 0.09299811, 0.12006005, 0.11624764,\n",
       "       0.13513514, 0.12837404, 0.17348856, 0.16216216, 0.14704292,\n",
       "       0.1898316 , 0.19605723, 0.06774581, 0.02196874, 0.10667615,\n",
       "       0.09695723, 0.05014122, 0.05287626, 0.0277885 , 0.07897472,\n",
       "       0.11277677, 0.1239204 , 0.09394228, 0.10146926, 0.02507061,\n",
       "       0.02739983, 0.05264981, 0.        , 0.03106849, 0.        ,\n",
       "       0.03771571, 0.07897472, 0.        , 0.04355036, 0.        ,\n",
       "       0.0328798 , 0.02666904, 0.0316386 , 0.055577  , 0.0328798 ,\n",
       "       0.055577  , 0.02348557, 0.02398006, 0.03224129, 0.10028244,\n",
       "       0.05014122, 0.07118685, 0.12683657, 0.        , 0.06974858,\n",
       "       0.04901431, 0.01937461, 0.08489527, 0.09802862, 0.07702442,\n",
       "       0.02599376, 0.06590622, 0.02702703, 0.        , 0.07271792,\n",
       "       0.08156474, 0.        , 0.        , 0.        , 0.        ,\n",
       "       0.05264981, 0.        , 0.06420878, 0.02478408, 0.06420878,\n",
       "       0.0474579 , 0.02567481, 0.07271792, 0.        , 0.        ,\n",
       "       0.02507061, 0.02819419, 0.02450715, 0.02279804, 0.        ,\n",
       "       0.07194017, 0.        , 0.12535305, 0.0833655 , 0.08219949,\n",
       "       0.02372895, 0.04393748, 0.14615085, 0.06974858, 0.02666904,\n",
       "       0.09208185, 0.04474374, 0.07045671, 0.02008453, 0.06839411,\n",
       "       0.04393748, 0.02104913, 0.02177518, 0.        , 0.        ,\n",
       "       0.        , 0.04474374, 0.        , 0.        , 0.        ,\n",
       "       0.        , 0.01752499, 0.04559608, 0.04649906, 0.        ,\n",
       "       0.03106849, 0.        , 0.        , 0.02087869, 0.02478408,\n",
       "       0.02122382, 0.        , 0.        , 0.        , 0.02423931,\n",
       "       0.02702703, 0.        , 0.02423931, 0.        , 0.        ,\n",
       "       0.01849633, 0.        , 0.        , 0.02122382, 0.02450715,\n",
       "       0.        , 0.01732917, 0.        , 0.        , 0.12253577,\n",
       "       0.        , 0.0328798 , 0.        , 0.04956816, 0.        ,\n",
       "       0.09394228, 0.0328798 , 0.15404885, 0.05723638, 0.04956816,\n",
       "       0.09695723, 0.05134962, 0.11742785, 0.04796011, 0.06974858,\n",
       "       0.05073463, 0.04956816, 0.08108108, 0.02450715, 0.05479966,\n",
       "       0.02536731, 0.04604093, 0.        , 0.02258194, 0.        ,\n",
       "       0.        , 0.09695723, 0.02423931, 0.        , 0.02177518,\n",
       "       0.13949717, 0.        , 0.02216755, 0.01964944, 0.02952693,\n",
       "       0.04697114, 0.        , 0.        , 0.05134962, 0.12837404,\n",
       "       0.        , 0.06367145, 0.07194017, 0.        , 0.0335578 ,\n",
       "       0.07798129, 0.07702442, 0.        , 0.        , 0.        ,\n",
       "       0.        , 0.02450715, 0.        , 0.05479966, 0.07521183,\n",
       "       0.07798129, 0.0277885 , 0.05134962, 0.07521183, 0.04901431,\n",
       "       0.04847862, 0.07352146, 0.02478408, 0.04697114, 0.02372895,\n",
       "       0.07045671, 0.02536731, 0.04901431, 0.02324953, 0.07194017,\n",
       "       0.07435224, 0.        , 0.        , 0.07271792, 0.04956816,\n",
       "       0.07521183, 0.04956816, 0.05198752, 0.02450715, 0.02507061,\n",
       "       0.02372895, 0.07702442, 0.07435224, 0.02023612, 0.07435224,\n",
       "       0.09913632, 0.        , 0.        , 0.        , 0.        ,\n",
       "       0.09672388, 0.07610194, 0.06774581, 0.02302046, 0.        ,\n",
       "       0.05405405, 0.04956816, 0.04847862, 0.03958262, 0.        ,\n",
       "       0.09119215, 0.02450715, 0.05723638, 0.05014122, 0.        ,\n",
       "       0.04604093, 0.        , 0.        , 0.04697114, 0.10701463,\n",
       "       0.        , 0.        , 0.07118685, 0.        , 0.07194017,\n",
       "       0.        , 0.02478408, 0.        , 0.        , 0.02906191,\n",
       "       0.02739983, 0.10028244, 0.        , 0.        , 0.        ,\n",
       "       0.05405405, 0.05405405, 0.        , 0.        , 0.0474579 ,\n",
       "       0.        , 0.04956816, 0.        , 0.05333807, 0.04209827,\n",
       "       0.055577  , 0.08867022, 0.        , 0.02478408, 0.07702442,\n",
       "       0.        , 0.07118685, 0.02196874, 0.04796011, 0.        ,\n",
       "       0.        , 0.07118685, 0.02507061, 0.04796011, 0.05134962,\n",
       "       0.        , 0.07194017, 0.02423931, 0.02739983, 0.07194017,\n",
       "       0.        , 0.        , 0.07610194, 0.        , 0.        ,\n",
       "       0.        , 0.        , 0.05905386, 0.02567481, 0.04847862,\n",
       "       0.        , 0.        , 0.03224129, 0.02450715, 0.02478408,\n",
       "       0.04516388, 0.        , 0.02302046, 0.0335578 , 0.        ,\n",
       "       0.02632491, 0.10667615, 0.07271792, 0.05198752, 0.07702442,\n",
       "       0.02071233, 0.2079501 , 0.04280585, 0.13334519, 0.08858079,\n",
       "       0.06974858, 0.05723638, 0.06839411, 0.07798129, 0.07610194,\n",
       "       0.0833655 , 0.        , 0.0856117 , 0.02567481, 0.09913632,\n",
       "       0.08710071, 0.02398006, 0.        , 0.12119654, 0.05405405,\n",
       "       0.16439899, 0.06420878, 0.07521183, 0.13334519, 0.05073463,\n",
       "       0.0833655 , 0.02536731, 0.02302046, 0.02348557, 0.02398006,\n",
       "       0.09695723, 0.04847862, 0.        , 0.02348557, 0.        ,\n",
       "       0.        , 0.        , 0.02632491, 0.02023612, 0.        ,\n",
       "       0.04956816, 0.02398006, 0.05073463, 0.        , 0.0172337 ,\n",
       "       0.06839411, 0.        , 0.        , 0.02071233, 0.0828493 ,\n",
       "       0.02039118, 0.04317329, 0.055577  , 0.02632491, 0.05264981,\n",
       "       0.        , 0.        , 0.02372895, 0.        , 0.01964944,\n",
       "       0.        , 0.05134962, 0.        , 0.02507061, 0.02258194,\n",
       "       0.0474579 , 0.        , 0.        , 0.        , 0.        ,\n",
       "       0.02087869, 0.02398006, 0.        , 0.04901431, 0.        ,\n",
       "       0.02423931, 0.02450715, 0.02372895, 0.02104913, 0.        ,\n",
       "       0.02237187, 0.04355036, 0.0631474 , 0.        , 0.        ,\n",
       "       0.02023612, 0.        , 0.        , 0.04047223, 0.05333807,\n",
       "       0.        , 0.07798129, 0.        , 0.        , 0.        ,\n",
       "       0.        , 0.        , 0.02372895, 0.        , 0.        ,\n",
       "       0.04901431, 0.02196874, 0.07009996, 0.0632772 , 0.        ,\n",
       "       0.0717496 , 0.02952693, 0.02478408, 0.02279804, 0.02237187,\n",
       "       0.02372895, 0.02398006, 0.        , 0.02348557, 0.        ,\n",
       "       0.02567481, 0.06711561, 0.10810811, 0.02861819, 0.055577  ,\n",
       "       0.02739983, 0.        , 0.        , 0.        , 0.02632491,\n",
       "       0.02216755, 0.02158664, 0.17155008, 0.02302046, 0.07610194,\n",
       "       0.12535305, 0.04796011, 0.05198752, 0.02237187, 0.0949158 ,\n",
       "       0.03874921, 0.06448259, 0.        , 0.02372895, 0.06974858,\n",
       "       0.04796011, 0.        , 0.02478408, 0.        , 0.        ,\n",
       "       0.02104913, 0.0277885 , 0.04649906, 0.        , 0.02906191,\n",
       "       0.04901431, 0.03106849, 0.04847862, 0.05264981, 0.05333807,\n",
       "       0.06711561, 0.11185934, 0.02177518, 0.        , 0.        ,\n",
       "       0.06117355, 0.04393748, 0.        , 0.04433511, 0.03902114,\n",
       "       0.02666904, 0.07352146, 0.        , 0.        , 0.02478408,\n",
       "       0.02450715, 0.02536731, 0.07118685, 0.        , 0.02324953,\n",
       "       0.        , 0.02739983, 0.        , 0.07271792, 0.02324953,\n",
       "       0.04559608, 0.02237187, 0.        , 0.        , 0.        ,\n",
       "       0.        , 0.        , 0.08710071, 0.        , 0.        ,\n",
       "       0.07435224, 0.02008453, 0.04796011, 0.        , 0.        ,\n",
       "       0.055577  , 0.10529963, 0.        , 0.        , 0.02450715,\n",
       "       0.04317329, 0.0474579 , 0.        , 0.        , 0.        ,\n",
       "       0.04847862, 0.        , 0.02536731, 0.02258194, 0.11990028,\n",
       "       0.10146926, 0.02819419, 0.05198752, 0.        , 0.02567481,\n",
       "       0.111154  , 0.10529963, 0.02632491, 0.02450715, 0.13699916,\n",
       "       0.        , 0.12119654, 0.        , 0.03504998, 0.        ,\n",
       "       0.02632491, 0.02071233, 0.11510231, 0.02478408, 0.        ,\n",
       "       0.05333807, 0.04901431, 0.07702442, 0.05264981, 0.02739983,\n",
       "       0.07610194, 0.08108108, 0.05134962, 0.        , 0.06650266,\n",
       "       0.05264981, 0.        , 0.11510231, 0.        , 0.04847862,\n",
       "       0.05134962, 0.07521183, 0.09592023, 0.02423931, 0.        ,\n",
       "       0.06855912, 0.        , 0.02104913, 0.        , 0.        ,\n",
       "       0.        , 0.10793322, 0.06906139, 0.12837404, 0.03224129,\n",
       "       0.05198752, 0.02324953, 0.02478408, 0.07194017, 0.06650266,\n",
       "       0.02507061, 0.05134962, 0.04847862, 0.10959932, 0.02450715,\n",
       "       0.02423931, 0.        , 0.        , 0.05014122, 0.05264981,\n",
       "       0.        , 0.        , 0.02196874, 0.02702703, 0.055577  ,\n",
       "       0.02819419, 0.        , 0.        , 0.12535305, 0.07045671,\n",
       "       0.        , 0.08219949, 0.14091342, 0.15794944, 0.08108108,\n",
       "       0.02666904, 0.        , 0.07521183, 0.05198752, 0.02536731,\n",
       "       0.16216216, 0.04847862, 0.07435224, 0.07352146, 0.07194017,\n",
       "       0.07435224, 0.12535305, 0.07435224, 0.05333807, 0.02702703,\n",
       "       0.09299811, 0.06906139, 0.02039118, 0.02632491, 0.15404885])"
      ]
     },
     "execution_count": 61,
     "metadata": {},
     "output_type": "execute_result"
    }
   ],
   "source": [
    "similarity[2]"
   ]
  },
  {
   "cell_type": "code",
   "execution_count": 62,
   "metadata": {},
   "outputs": [
    {
     "data": {
      "text/plain": [
       "1"
      ]
     },
     "execution_count": 62,
     "metadata": {},
     "output_type": "execute_result"
    }
   ],
   "source": [
    "new_df[new_df['your_type'] == 'Beach'].index[0]"
   ]
  },
  {
   "cell_type": "code",
   "execution_count": 63,
   "metadata": {},
   "outputs": [
    {
     "data": {
      "text/plain": [
       "[1.0000000000000002,\n",
       " 0.22895594055557905,\n",
       " 0.22086305214969307,\n",
       " 0.21146027322991795,\n",
       " 0.20952908873087345,\n",
       " 0.2028756678001723,\n",
       " 0.1987767469347238,\n",
       " 0.19676044536698506,\n",
       " 0.18224227560060588,\n",
       " 0.17494960673627816,\n",
       " 0.1640529566390124,\n",
       " 0.1629670690129016,\n",
       " 0.16118595467047642,\n",
       " 0.16118595467047642,\n",
       " 0.16070147520167405,\n",
       " 0.15946199115053014,\n",
       " 0.15779218606680068,\n",
       " 0.15617376188860607,\n",
       " 0.15404884978892902,\n",
       " 0.14734312783348066,\n",
       " 0.1428976524688623,\n",
       " 0.13997200839720098,\n",
       " 0.13997200839720098,\n",
       " 0.13997200839720098,\n",
       " 0.13968605915391566,\n",
       " 0.13968605915391566,\n",
       " 0.13883861315765336,\n",
       " 0.1366817067004544,\n",
       " 0.13525044520011487,\n",
       " 0.1301448015738384,\n",
       " 0.126673647984535,\n",
       " 0.12503908082008885,\n",
       " 0.12346619958119871,\n",
       " 0.12195121951219513,\n",
       " 0.12195121951219512,\n",
       " 0.12049067317796998,\n",
       " 0.12049067317796996,\n",
       " 0.11908137705738525,\n",
       " 0.11908137705738525,\n",
       " 0.11908137705738525,\n",
       " 0.11900452556370289,\n",
       " 0.11640504929492972,\n",
       " 0.11640504929492972,\n",
       " 0.11640504929492972,\n",
       " 0.11534196721631887,\n",
       " 0.11513282476462601,\n",
       " 0.11390142225037868,\n",
       " 0.11270870433342906,\n",
       " 0.11270870433342906,\n",
       " 0.11155268706329005,\n",
       " 0.10626278551055639,\n",
       " 0.10559273546969093,\n",
       " 0.10411584125907071,\n",
       " 0.10269923319261937,\n",
       " 0.10253309789938275,\n",
       " 0.101338918387628,\n",
       " 0.101338918387628,\n",
       " 0.10003126465607107,\n",
       " 0.09988907373180403,\n",
       " 0.09877295966495897,\n",
       " 0.09769344135387542,\n",
       " 0.0975609756097561,\n",
       " 0.0975609756097561,\n",
       " 0.09639253854237598,\n",
       " 0.09639253854237598,\n",
       " 0.09526510164590819,\n",
       " 0.09526510164590819,\n",
       " 0.09417632186960223,\n",
       " 0.09370425713316365,\n",
       " 0.09312403943594377,\n",
       " 0.09312403943594377,\n",
       " 0.09312403943594377,\n",
       " 0.09210625981170081,\n",
       " 0.09016696346674324,\n",
       " 0.09016696346674324,\n",
       " 0.08924214965063204,\n",
       " 0.08924214965063204,\n",
       " 0.08924214965063204,\n",
       " 0.08834522085987724,\n",
       " 0.08747480336813908,\n",
       " 0.08347838711296822,\n",
       " 0.08347838711296822,\n",
       " 0.0828236445561349,\n",
       " 0.08274288037841213,\n",
       " 0.08035073760083702,\n",
       " 0.0791945516022682,\n",
       " 0.07870417814679402,\n",
       " 0.07808688094430304,\n",
       " 0.07808688094430304,\n",
       " 0.07702442489446452,\n",
       " 0.07702442489446452,\n",
       " 0.07702442489446452,\n",
       " 0.076004188790721,\n",
       " 0.07502344849205331,\n",
       " 0.07502344849205331,\n",
       " 0.07502344849205331,\n",
       " 0.07502344849205331,\n",
       " 0.07502344849205331,\n",
       " 0.07407971974871923,\n",
       " 0.07362101738323104,\n",
       " 0.07317073170731708,\n",
       " 0.07317073170731708,\n",
       " 0.07317073170731708,\n",
       " 0.07317073170731708,\n",
       " 0.07317073170731708,\n",
       " 0.07229440390678199,\n",
       " 0.07229440390678199,\n",
       " 0.07229440390678199,\n",
       " 0.07144882623443115,\n",
       " 0.07063224140220167,\n",
       " 0.07063224140220167,\n",
       " 0.07063224140220167,\n",
       " 0.07063224140220167,\n",
       " 0.07063224140220167,\n",
       " 0.06984302957695783,\n",
       " 0.06984302957695783,\n",
       " 0.06984302957695783,\n",
       " 0.06984302957695783,\n",
       " 0.06984302957695783,\n",
       " 0.0690796948587756,\n",
       " 0.0690796948587756,\n",
       " 0.0690796948587756,\n",
       " 0.0683408533502272,\n",
       " 0.0683408533502272,\n",
       " 0.0683408533502272,\n",
       " 0.0683408533502272,\n",
       " 0.0683408533502272,\n",
       " 0.0683408533502272,\n",
       " 0.06762522260005743,\n",
       " 0.06762522260005743,\n",
       " 0.06762522260005743,\n",
       " 0.06762522260005743,\n",
       " 0.06693161223797403,\n",
       " 0.06693161223797403,\n",
       " 0.06693161223797403,\n",
       " 0.06693161223797403,\n",
       " 0.06625891564490793,\n",
       " 0.06625891564490793,\n",
       " 0.06625891564490793,\n",
       " 0.06560610252610431,\n",
       " 0.06435634802102162,\n",
       " 0.06435634802102162,\n",
       " 0.06375767130633384,\n",
       " 0.06375767130633384,\n",
       " 0.0631753972713992,\n",
       " 0.06260879033472616,\n",
       " 0.06246950475544243,\n",
       " 0.06246950475544243,\n",
       " 0.06246950475544243,\n",
       " 0.06099627595216836,\n",
       " 0.06011130897782883,\n",
       " 0.059988003598800424,\n",
       " 0.059502262781851445,\n",
       " 0.05800147905657416,\n",
       " 0.0570265948512201,\n",
       " 0.056099271345321444,\n",
       " 0.055999004470991806,\n",
       " 0.05521576303742327,\n",
       " 0.054464493159869794,\n",
       " 0.05437272478270369,\n",
       " 0.05437272478270369,\n",
       " 0.053049589176730555,\n",
       " 0.052796367734845466,\n",
       " 0.052796367734845466,\n",
       " 0.052796367734845466,\n",
       " 0.052796367734845466,\n",
       " 0.052796367734845466,\n",
       " 0.052057920629535355,\n",
       " 0.05134961659630968,\n",
       " 0.05134961659630968,\n",
       " 0.05134961659630968,\n",
       " 0.05134961659630968,\n",
       " 0.050669459193814,\n",
       " 0.050669459193814,\n",
       " 0.050669459193814,\n",
       " 0.050015632328035534,\n",
       " 0.050015632328035534,\n",
       " 0.050015632328035534,\n",
       " 0.049386479832479485,\n",
       " 0.049386479832479485,\n",
       " 0.049386479832479485,\n",
       " 0.049386479832479485,\n",
       " 0.049386479832479485,\n",
       " 0.04878048780487805,\n",
       " 0.04878048780487805,\n",
       " 0.04878048780487805,\n",
       " 0.04878048780487805,\n",
       " 0.04878048780487805,\n",
       " 0.04878048780487805,\n",
       " 0.04878048780487805,\n",
       " 0.04819626927118799,\n",
       " 0.04819626927118799,\n",
       " 0.04819626927118799,\n",
       " 0.047632550822954096,\n",
       " 0.047632550822954096,\n",
       " 0.047632550822954096,\n",
       " 0.047632550822954096,\n",
       " 0.047632550822954096,\n",
       " 0.047632550822954096,\n",
       " 0.047632550822954096,\n",
       " 0.047088160934801115,\n",
       " 0.047088160934801115,\n",
       " 0.047088160934801115,\n",
       " 0.047088160934801115,\n",
       " 0.047088160934801115,\n",
       " 0.047088160934801115,\n",
       " 0.047088160934801115,\n",
       " 0.047088160934801115,\n",
       " 0.047088160934801115,\n",
       " 0.047088160934801115,\n",
       " 0.046562019717971886,\n",
       " 0.046562019717971886,\n",
       " 0.046562019717971886,\n",
       " 0.046562019717971886,\n",
       " 0.04605312990585041,\n",
       " 0.04605312990585041,\n",
       " 0.04605312990585041,\n",
       " 0.04605312990585041,\n",
       " 0.04605312990585041,\n",
       " 0.04605312990585041,\n",
       " 0.04605312990585041,\n",
       " 0.04605312990585041,\n",
       " 0.04556056890015147,\n",
       " 0.04556056890015147,\n",
       " 0.04556056890015147,\n",
       " 0.04556056890015147,\n",
       " 0.04556056890015147,\n",
       " 0.04556056890015147,\n",
       " 0.04556056890015147,\n",
       " 0.04556056890015147,\n",
       " 0.04508348173337162,\n",
       " 0.04508348173337162,\n",
       " 0.04508348173337162,\n",
       " 0.04508348173337162,\n",
       " 0.04462107482531602,\n",
       " 0.04462107482531602,\n",
       " 0.04462107482531602,\n",
       " 0.04462107482531602,\n",
       " 0.04462107482531602,\n",
       " 0.04417261042993862,\n",
       " 0.04417261042993862,\n",
       " 0.04417261042993862,\n",
       " 0.04417261042993862,\n",
       " 0.04417261042993862,\n",
       " 0.04373740168406954,\n",
       " 0.04373740168406954,\n",
       " 0.04373740168406954,\n",
       " 0.04373740168406954,\n",
       " 0.04373740168406954,\n",
       " 0.043314808182421,\n",
       " 0.043314808182421,\n",
       " 0.043314808182421,\n",
       " 0.043314808182421,\n",
       " 0.042904232014014415,\n",
       " 0.042904232014014415,\n",
       " 0.04250511420422255,\n",
       " 0.04250511420422255,\n",
       " 0.04250511420422255,\n",
       " 0.04211693151426613,\n",
       " 0.04211693151426613,\n",
       " 0.04173919355648411,\n",
       " 0.04173919355648411,\n",
       " 0.04173919355648411,\n",
       " 0.04173919355648411,\n",
       " 0.04173919355648411,\n",
       " 0.04173919355648411,\n",
       " 0.04137144018920606,\n",
       " 0.04137144018920606,\n",
       " 0.04137144018920606,\n",
       " 0.04137144018920606,\n",
       " 0.04137144018920606,\n",
       " 0.04066418396811224,\n",
       " 0.04066418396811224,\n",
       " 0.04066418396811224,\n",
       " 0.04066418396811224,\n",
       " 0.03999200239920028,\n",
       " 0.039668175187900966,\n",
       " 0.03935208907339701,\n",
       " 0.03874194221130299,\n",
       " 0.03874194221130299,\n",
       " 0.038447322405439625,\n",
       " 0.03815932342592984,\n",
       " 0.037602223109147265,\n",
       " 0.037602223109147265,\n",
       " 0.03582871819500093,\n",
       " 0.03582871819500093,\n",
       " 0.03492151478847891,\n",
       " 0.03407990882954985,\n",
       " 0.032924319888319654,\n",
       " 0.03256448045129181,\n",
       " 0.03204617977228226,\n",
       " 0.03187883565316692,\n",
       " 0.03187883565316692,\n",
       " 0.03187883565316692,\n",
       " 0.031234752377721216,\n",
       " 0.030628194591584446,\n",
       " 0.030628194591584446,\n",
       " 0.029514066805047763,\n",
       " 0.029514066805047763,\n",
       " 0.02900073952828708,\n",
       " 0.02851329742561005,\n",
       " 0.028049635672660722,\n",
       " 0.027607881518711633,\n",
       " 0.027186362391351845,\n",
       " 0.027186362391351845,\n",
       " 0.026783579200279007,\n",
       " 0.026783579200279007,\n",
       " 0.026783579200279007,\n",
       " 0.026398183867422733,\n",
       " 0.026398183867422733,\n",
       " 0.026398183867422733,\n",
       " 0.026398183867422733,\n",
       " 0.026398183867422733,\n",
       " 0.026398183867422733,\n",
       " 0.026398183867422733,\n",
       " 0.026398183867422733,\n",
       " 0.026028960314767677,\n",
       " 0.026028960314767677,\n",
       " 0.026028960314767677,\n",
       " 0.026028960314767677,\n",
       " 0.026028960314767677,\n",
       " 0.02567480829815484,\n",
       " 0.02567480829815484,\n",
       " 0.02567480829815484,\n",
       " 0.02567480829815484,\n",
       " 0.02567480829815484,\n",
       " 0.02567480829815484,\n",
       " 0.02567480829815484,\n",
       " 0.02567480829815484,\n",
       " 0.025334729596907,\n",
       " 0.025334729596907,\n",
       " 0.025334729596907,\n",
       " 0.025334729596907,\n",
       " 0.025007816164017767,\n",
       " 0.025007816164017767,\n",
       " 0.025007816164017767,\n",
       " 0.025007816164017767,\n",
       " 0.025007816164017767,\n",
       " 0.025007816164017767,\n",
       " 0.025007816164017767,\n",
       " 0.024693239916239743,\n",
       " 0.024693239916239743,\n",
       " 0.024693239916239743,\n",
       " 0.024693239916239743,\n",
       " 0.024693239916239743,\n",
       " 0.024693239916239743,\n",
       " 0.024390243902439025,\n",
       " 0.024390243902439025,\n",
       " 0.024390243902439025,\n",
       " 0.024390243902439025,\n",
       " 0.024390243902439025,\n",
       " 0.024390243902439025,\n",
       " 0.024098134635593994,\n",
       " 0.024098134635593994,\n",
       " 0.024098134635593994,\n",
       " 0.024098134635593994,\n",
       " 0.024098134635593994,\n",
       " 0.024098134635593994,\n",
       " 0.024098134635593994,\n",
       " 0.024098134635593994,\n",
       " 0.023816275411477048,\n",
       " 0.023816275411477048,\n",
       " 0.023816275411477048,\n",
       " 0.023816275411477048,\n",
       " 0.023816275411477048,\n",
       " 0.023816275411477048,\n",
       " 0.023816275411477048,\n",
       " 0.023816275411477048,\n",
       " 0.023816275411477048,\n",
       " 0.023816275411477048,\n",
       " 0.023816275411477048,\n",
       " 0.023544080467400558,\n",
       " 0.023544080467400558,\n",
       " 0.023544080467400558,\n",
       " 0.023544080467400558,\n",
       " 0.023544080467400558,\n",
       " 0.023544080467400558,\n",
       " 0.023544080467400558,\n",
       " 0.023544080467400558,\n",
       " 0.023544080467400558,\n",
       " 0.023544080467400558,\n",
       " 0.023544080467400558,\n",
       " 0.023281009858985943,\n",
       " 0.023281009858985943,\n",
       " 0.023281009858985943,\n",
       " 0.023281009858985943,\n",
       " 0.023026564952925203,\n",
       " 0.023026564952925203,\n",
       " 0.023026564952925203,\n",
       " 0.023026564952925203,\n",
       " 0.023026564952925203,\n",
       " 0.023026564952925203,\n",
       " 0.022780284450075735,\n",
       " 0.022780284450075735,\n",
       " 0.022780284450075735,\n",
       " 0.022780284450075735,\n",
       " 0.022780284450075735,\n",
       " 0.022780284450075735,\n",
       " 0.02254174086668581,\n",
       " 0.02254174086668581,\n",
       " 0.02254174086668581,\n",
       " 0.02254174086668581,\n",
       " 0.02254174086668581,\n",
       " 0.02254174086668581,\n",
       " 0.02254174086668581,\n",
       " 0.02231053741265801,\n",
       " 0.02231053741265801,\n",
       " 0.02231053741265801,\n",
       " 0.02208630521496931,\n",
       " 0.02208630521496931,\n",
       " 0.02208630521496931,\n",
       " 0.02208630521496931,\n",
       " 0.02208630521496931,\n",
       " 0.02208630521496931,\n",
       " 0.02208630521496931,\n",
       " 0.02186870084203477,\n",
       " 0.02186870084203477,\n",
       " 0.02186870084203477,\n",
       " 0.0216574040912105,\n",
       " 0.0216574040912105,\n",
       " 0.0216574040912105,\n",
       " 0.0216574040912105,\n",
       " 0.0216574040912105,\n",
       " 0.0216574040912105,\n",
       " 0.0216574040912105,\n",
       " 0.021452116007007208,\n",
       " 0.021452116007007208,\n",
       " 0.021452116007007208,\n",
       " 0.021252557102111276,\n",
       " 0.021252557102111276,\n",
       " 0.021252557102111276,\n",
       " 0.021252557102111276,\n",
       " 0.021252557102111276,\n",
       " 0.021252557102111276,\n",
       " 0.021058465757133066,\n",
       " 0.020869596778242055,\n",
       " 0.02068572009460303,\n",
       " 0.02068572009460303,\n",
       " 0.02068572009460303,\n",
       " 0.02068572009460303,\n",
       " 0.02033209198405612,\n",
       " 0.02033209198405612,\n",
       " 0.02033209198405612,\n",
       " 0.020161945963637795,\n",
       " 0.019676044536698505,\n",
       " 0.019676044536698505,\n",
       " 0.019370971105651495,\n",
       " 0.019370971105651495,\n",
       " 0.019370971105651495,\n",
       " 0.019223661202719813,\n",
       " 0.018801111554573632,\n",
       " 0.018801111554573632,\n",
       " 0.01853441561005319,\n",
       " 0.01840525434580776,\n",
       " 0.01815483105328993,\n",
       " 0.017797651932695783,\n",
       " 0.01757092099429725,\n",
       " 0.01735264020984512,\n",
       " 0.016743584773354764,\n",
       " 0.016371458648164517,\n",
       " 0.0,\n",
       " 0.0,\n",
       " 0.0,\n",
       " 0.0,\n",
       " 0.0,\n",
       " 0.0,\n",
       " 0.0,\n",
       " 0.0,\n",
       " 0.0,\n",
       " 0.0,\n",
       " 0.0,\n",
       " 0.0,\n",
       " 0.0,\n",
       " 0.0,\n",
       " 0.0,\n",
       " 0.0,\n",
       " 0.0,\n",
       " 0.0,\n",
       " 0.0,\n",
       " 0.0,\n",
       " 0.0,\n",
       " 0.0,\n",
       " 0.0,\n",
       " 0.0,\n",
       " 0.0,\n",
       " 0.0,\n",
       " 0.0,\n",
       " 0.0,\n",
       " 0.0,\n",
       " 0.0,\n",
       " 0.0,\n",
       " 0.0,\n",
       " 0.0,\n",
       " 0.0,\n",
       " 0.0,\n",
       " 0.0,\n",
       " 0.0,\n",
       " 0.0,\n",
       " 0.0,\n",
       " 0.0,\n",
       " 0.0,\n",
       " 0.0,\n",
       " 0.0,\n",
       " 0.0,\n",
       " 0.0,\n",
       " 0.0,\n",
       " 0.0,\n",
       " 0.0,\n",
       " 0.0,\n",
       " 0.0,\n",
       " 0.0,\n",
       " 0.0,\n",
       " 0.0,\n",
       " 0.0,\n",
       " 0.0,\n",
       " 0.0,\n",
       " 0.0,\n",
       " 0.0,\n",
       " 0.0,\n",
       " 0.0,\n",
       " 0.0,\n",
       " 0.0,\n",
       " 0.0,\n",
       " 0.0,\n",
       " 0.0,\n",
       " 0.0,\n",
       " 0.0,\n",
       " 0.0,\n",
       " 0.0,\n",
       " 0.0,\n",
       " 0.0,\n",
       " 0.0,\n",
       " 0.0,\n",
       " 0.0,\n",
       " 0.0,\n",
       " 0.0,\n",
       " 0.0,\n",
       " 0.0,\n",
       " 0.0,\n",
       " 0.0,\n",
       " 0.0,\n",
       " 0.0,\n",
       " 0.0,\n",
       " 0.0,\n",
       " 0.0,\n",
       " 0.0,\n",
       " 0.0,\n",
       " 0.0,\n",
       " 0.0,\n",
       " 0.0,\n",
       " 0.0,\n",
       " 0.0,\n",
       " 0.0,\n",
       " 0.0,\n",
       " 0.0,\n",
       " 0.0,\n",
       " 0.0,\n",
       " 0.0,\n",
       " 0.0,\n",
       " 0.0,\n",
       " 0.0,\n",
       " 0.0,\n",
       " 0.0,\n",
       " 0.0,\n",
       " 0.0,\n",
       " 0.0,\n",
       " 0.0,\n",
       " 0.0,\n",
       " 0.0,\n",
       " 0.0,\n",
       " 0.0,\n",
       " 0.0,\n",
       " 0.0,\n",
       " 0.0,\n",
       " 0.0,\n",
       " 0.0,\n",
       " 0.0,\n",
       " 0.0,\n",
       " 0.0,\n",
       " 0.0,\n",
       " 0.0,\n",
       " 0.0,\n",
       " 0.0,\n",
       " 0.0,\n",
       " 0.0,\n",
       " 0.0,\n",
       " 0.0,\n",
       " 0.0,\n",
       " 0.0,\n",
       " 0.0,\n",
       " 0.0,\n",
       " 0.0,\n",
       " 0.0,\n",
       " 0.0,\n",
       " 0.0,\n",
       " 0.0,\n",
       " 0.0,\n",
       " 0.0,\n",
       " 0.0,\n",
       " 0.0,\n",
       " 0.0,\n",
       " 0.0,\n",
       " 0.0,\n",
       " 0.0,\n",
       " 0.0,\n",
       " 0.0,\n",
       " 0.0,\n",
       " 0.0,\n",
       " 0.0,\n",
       " 0.0,\n",
       " 0.0,\n",
       " 0.0,\n",
       " 0.0,\n",
       " 0.0,\n",
       " 0.0,\n",
       " 0.0,\n",
       " 0.0,\n",
       " 0.0,\n",
       " 0.0,\n",
       " 0.0,\n",
       " 0.0,\n",
       " 0.0,\n",
       " 0.0,\n",
       " 0.0,\n",
       " 0.0,\n",
       " 0.0,\n",
       " 0.0,\n",
       " 0.0,\n",
       " 0.0,\n",
       " 0.0,\n",
       " 0.0,\n",
       " 0.0,\n",
       " 0.0,\n",
       " 0.0,\n",
       " 0.0,\n",
       " 0.0,\n",
       " 0.0,\n",
       " 0.0,\n",
       " 0.0,\n",
       " 0.0]"
      ]
     },
     "execution_count": 63,
     "metadata": {},
     "output_type": "execute_result"
    }
   ],
   "source": [
    "sorted(similarity[0],reverse=True)"
   ]
  },
  {
   "cell_type": "code",
   "execution_count": 64,
   "metadata": {},
   "outputs": [
    {
     "data": {
      "text/plain": [
       "[(521, 0.22895594055557905),\n",
       " (269, 0.22086305214969307),\n",
       " (198, 0.21146027322991795),\n",
       " (228, 0.20952908873087345),\n",
       " (61, 0.2028756678001723)]"
      ]
     },
     "execution_count": 64,
     "metadata": {},
     "output_type": "execute_result"
    }
   ],
   "source": [
    "sorted(list(enumerate(similarity[0])),reverse=True,key = lambda x : x[1])[1:6]"
   ]
  },
  {
   "cell_type": "code",
   "execution_count": 65,
   "metadata": {},
   "outputs": [
    {
     "data": {
      "text/plain": [
       "[0.17494960673627816,\n",
       " 0.18224227560060588,\n",
       " 0.19676044536698506,\n",
       " 0.1987767469347238,\n",
       " 0.2028756678001723,\n",
       " 0.20952908873087345,\n",
       " 0.21146027322991795,\n",
       " 0.22086305214969307,\n",
       " 0.22895594055557905]"
      ]
     },
     "execution_count": 65,
     "metadata": {},
     "output_type": "execute_result"
    }
   ],
   "source": [
    "sorted(similarity[0])[-10:-1]"
   ]
  },
  {
   "cell_type": "code",
   "execution_count": 66,
   "metadata": {},
   "outputs": [],
   "source": [
    "def recommend_try(beach):\n",
    "    beach_index = new_df[new_df['your_type'] == beach].index[0]\n",
    "    distances = similarity[beach_index]\n",
    "    beach_list = sorted(list(enumerate(distances)),reverse=True,key = lambda x : x[1])[1:6]\n",
    "    \n",
    "    for i in beach_list:\n",
    "#         print(new_df.iloc[i[0]].title)\n",
    "        print(i[0])"
   ]
  },
  {
   "cell_type": "code",
   "execution_count": 67,
   "metadata": {},
   "outputs": [
    {
     "name": "stdout",
     "output_type": "stream",
     "text": [
      "8\n",
      "1\n",
      "331\n",
      "11\n",
      "26\n"
     ]
    }
   ],
   "source": [
    "recommend_try('Religious')"
   ]
  },
  {
   "cell_type": "code",
   "execution_count": 68,
   "metadata": {},
   "outputs": [
    {
     "data": {
      "text/plain": [
       "3797.06"
      ]
     },
     "execution_count": 68,
     "metadata": {},
     "output_type": "execute_result"
    }
   ],
   "source": [
    "new_df['avg_accommodation_cost/day(Rs)'][6]"
   ]
  },
  {
   "cell_type": "code",
   "execution_count": 69,
   "metadata": {},
   "outputs": [],
   "source": [
    "def recommend(beach):\n",
    "    beach_index = new_df[new_df['your_type'] == beach].index[0]\n",
    "    distances = similarity[beach_index]\n",
    "    beach_list = sorted(list(enumerate(distances)),reverse=True,key = lambda x : x[1])[1:6]\n",
    "    \n",
    "    for i in beach_list:\n",
    "        \n",
    "        print(new_df['avg_accommodation_cost/day(Rs)'][i[0]])"
   ]
  },
  {
   "cell_type": "code",
   "execution_count": 70,
   "metadata": {},
   "outputs": [
    {
     "name": "stdout",
     "output_type": "stream",
     "text": [
      "3118.42\n",
      "3474.9\n",
      "4327.13\n",
      "2401.25\n",
      "2059.42\n"
     ]
    }
   ],
   "source": [
    "recommend('Beach')"
   ]
  },
  {
   "cell_type": "code",
   "execution_count": 71,
   "metadata": {},
   "outputs": [
    {
     "name": "stdout",
     "output_type": "stream",
     "text": [
      "3118.42\n",
      "3474.9\n",
      "4327.13\n",
      "2401.25\n",
      "2059.42\n"
     ]
    }
   ],
   "source": [
    "recommend('Beach')"
   ]
  },
  {
   "cell_type": "code",
   "execution_count": null,
   "metadata": {},
   "outputs": [],
   "source": []
  },
  {
   "cell_type": "code",
   "execution_count": null,
   "metadata": {},
   "outputs": [],
   "source": []
  },
  {
   "cell_type": "code",
   "execution_count": null,
   "metadata": {},
   "outputs": [],
   "source": []
  },
  {
   "cell_type": "code",
   "execution_count": null,
   "metadata": {},
   "outputs": [],
   "source": []
  }
 ],
 "metadata": {
  "kernelspec": {
   "display_name": "Python 3 (ipykernel)",
   "language": "python",
   "name": "python3"
  },
  "language_info": {
   "codemirror_mode": {
    "name": "ipython",
    "version": 3
   },
   "file_extension": ".py",
   "mimetype": "text/x-python",
   "name": "python",
   "nbconvert_exporter": "python",
   "pygments_lexer": "ipython3",
   "version": "3.10.12"
  }
 },
 "nbformat": 4,
 "nbformat_minor": 4
}
